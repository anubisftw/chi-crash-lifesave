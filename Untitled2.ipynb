{
 "cells": [
  {
   "cell_type": "code",
   "execution_count": 37,
   "id": "d0520be9",
   "metadata": {},
   "outputs": [],
   "source": [
    "import pandas as pd\n",
    "import numpy as np \n",
    "import scipy \n",
    "from scipy import stats\n",
    "import math \n",
    "from scipy.stats import norm\n",
    "import random\n",
    "import matplotlib.pyplot as plt  \n",
    "import seaborn as sns\n",
    "import sklearn \n",
    "import statsmodels.api as sm\n",
    "from sklearn.preprocessing import OneHotEncoder\n",
    "from sklearn.model_selection import train_test_split\n",
    "from sklearn.linear_model import LogisticRegression\n",
    "from sklearn.linear_model import LinearRegression\n",
    "import statsmodels.api as sm\n",
    "from statsmodels.formula.api import ols\n",
    "from sklearn.preprocessing import StandardScaler, MaxAbsScaler\n",
    "import seaborn as sns\n",
    "from sklearn.neighbors import KNeighborsClassifier\n",
    "from sklearn.tree import DecisionTreeClassifier\n",
    "from sklearn.metrics import precision_score, recall_score, plot_confusion_matrix, confusion_matrix\n",
    "from sklearn.model_selection import train_test_split, GridSearchCV,\\\n",
    "cross_val_score, RandomizedSearchCV\n",
    "from sklearn.preprocessing import OneHotEncoder, StandardScaler, Normalizer\n",
    "from sklearn.impute import SimpleImputer\n",
    "from sklearn.pipeline import Pipeline\n",
    "from sklearn.ensemble import RandomForestClassifier\n",
    "from sklearn.preprocessing import StandardScaler\n",
    "\n",
    "\n",
    "from matplotlib import pyplot as plt\n",
    "import seaborn as sns\n",
    "from scipy import stats as stats\n",
    "\n",
    "from sklearn.linear_model import LogisticRegression\n",
    "from sklearn.neighbors import KNeighborsClassifier\n",
    "from sklearn.tree import DecisionTreeClassifier\n",
    "\n",
    "from sklearn.metrics import precision_score, recall_score, plot_confusion_matrix, confusion_matrix\n",
    "from sklearn.model_selection import train_test_split, GridSearchCV,\\\n",
    "cross_val_score, RandomizedSearchCV\n",
    "\n",
    "from sklearn.preprocessing import OneHotEncoder, StandardScaler, Normalizer\n",
    "from sklearn.impute import SimpleImputer\n",
    "\n",
    "from sklearn.compose import ColumnTransformer\n",
    "from sklearn.pipeline import Pipeline\n",
    "import time\n",
    "from sklearn.metrics import precision_score, recall_score, f1_score\n",
    "from sklearn.ensemble import RandomForestRegressor\n",
    "from sklearn.metrics import classification_report"
   ]
  },
  {
   "cell_type": "code",
   "execution_count": 38,
   "id": "1a04163d",
   "metadata": {},
   "outputs": [],
   "source": [
    "from imblearn.over_sampling import SMOTE\n",
    "from imblearn.pipeline import Pipeline\n",
    "from imblearn.under_sampling import RandomUnderSampler"
   ]
  },
  {
   "cell_type": "code",
   "execution_count": 39,
   "id": "7a95efd0",
   "metadata": {},
   "outputs": [
    {
     "name": "stderr",
     "output_type": "stream",
     "text": [
      "/var/folders/6d/1m4q0zbs33ngzwx1pxdmdjv80000gn/T/ipykernel_6396/1488376127.py:3: DtypeWarning: Columns (20,24,25,26,29) have mixed types. Specify dtype option on import or set low_memory=False.\n",
      "  df_peop =  pd.read_csv ('/Users/patrickpriestley/Downloads/Traffic_Crashes_-_People.csv')\n",
      "/var/folders/6d/1m4q0zbs33ngzwx1pxdmdjv80000gn/T/ipykernel_6396/1488376127.py:5: DtypeWarning: Columns (19,21,40,41,42,44,48,49,50,53,55,58,59,61,71) have mixed types. Specify dtype option on import or set low_memory=False.\n",
      "  df_vhic = pd.read_csv ('/Users/patrickpriestley/Downloads/Traffic_Crashes_-_Vehicles.csv')\n"
     ]
    }
   ],
   "source": [
    "df_traf = pd.read_csv ('/Users/patrickpriestley/Downloads/Traffic_Crashes_-_Crashes.csv')   \n",
    "\n",
    "df_peop =  pd.read_csv ('/Users/patrickpriestley/Downloads/Traffic_Crashes_-_People.csv')\n",
    "\n",
    "df_vhic = pd.read_csv ('/Users/patrickpriestley/Downloads/Traffic_Crashes_-_Vehicles.csv')"
   ]
  },
  {
   "cell_type": "code",
   "execution_count": 40,
   "id": "eb6f1bac",
   "metadata": {},
   "outputs": [],
   "source": [
    "df_m = df_peop.merge(df_vhic, how = 'left', on ='CRASH_RECORD_ID')"
   ]
  },
  {
   "cell_type": "code",
   "execution_count": 41,
   "id": "7494ee7d",
   "metadata": {},
   "outputs": [],
   "source": [
    "df_m = df_m.merge(df_traf, how = 'left', on = 'CRASH_RECORD_ID')"
   ]
  },
  {
   "cell_type": "code",
   "execution_count": 42,
   "id": "f30ba0ad",
   "metadata": {},
   "outputs": [],
   "source": [
    "df_m = df_m.drop_duplicates (subset=['CRASH_RECORD_ID'], keep='first')"
   ]
  },
  {
   "cell_type": "code",
   "execution_count": 43,
   "id": "705b89de",
   "metadata": {},
   "outputs": [],
   "source": [
    "columns = ['CRASH_DATE_x', 'POSTED_SPEED_LIMIT', 'TRAFFIC_CONTROL_DEVICE', 'DEVICE_CONDITION',   \n",
    "            'WEATHER_CONDITION', 'LIGHTING_CONDITION', 'FIRST_CRASH_TYPE', 'TRAFFICWAY_TYPE',\n",
    "            'ALIGNMENT', 'ROADWAY_SURFACE_COND', 'ROAD_DEFECT', 'CRASH_TYPE', \n",
    "            'DAMAGE',\n",
    "            'PRIM_CONTRIBUTORY_CAUSE', 'SEC_CONTRIBUTORY_CAUSE', 'STREET_DIRECTION',\n",
    "            'BEAT_OF_OCCURRENCE', 'LOCATION', 'MAKE', 'MODEL', \n",
    "            'VEHICLE_YEAR', 'VEHICLE_TYPE', 'VEHICLE_USE', 'TRAVEL_DIRECTION',\n",
    "            'MANEUVER',\n",
    "            'FIRST_CONTACT_POINT', \n",
    "            'SEX','AGE', 'EJECTION', 'INJURY_CLASSIFICATION']\n",
    "\n",
    "\n",
    "df_chi = df_m[columns]\n",
    "\n",
    "\n",
    "\n",
    "\n",
    "\n",
    "\n"
   ]
  },
  {
   "cell_type": "code",
   "execution_count": 44,
   "id": "b970ad78",
   "metadata": {},
   "outputs": [
    {
     "name": "stderr",
     "output_type": "stream",
     "text": [
      "/var/folders/6d/1m4q0zbs33ngzwx1pxdmdjv80000gn/T/ipykernel_6396/4206284986.py:1: SettingWithCopyWarning: \n",
      "A value is trying to be set on a copy of a slice from a DataFrame.\n",
      "Try using .loc[row_indexer,col_indexer] = value instead\n",
      "\n",
      "See the caveats in the documentation: https://pandas.pydata.org/pandas-docs/stable/user_guide/indexing.html#returning-a-view-versus-a-copy\n",
      "  df_chi['CRASH_DATE_x'] = pd.to_datetime(df_chi['CRASH_DATE_x'])\n",
      "/var/folders/6d/1m4q0zbs33ngzwx1pxdmdjv80000gn/T/ipykernel_6396/4206284986.py:2: SettingWithCopyWarning: \n",
      "A value is trying to be set on a copy of a slice from a DataFrame.\n",
      "Try using .loc[row_indexer,col_indexer] = value instead\n",
      "\n",
      "See the caveats in the documentation: https://pandas.pydata.org/pandas-docs/stable/user_guide/indexing.html#returning-a-view-versus-a-copy\n",
      "  df_chi['year'] = df_chi['CRASH_DATE_x'].dt.year\n",
      "/var/folders/6d/1m4q0zbs33ngzwx1pxdmdjv80000gn/T/ipykernel_6396/4206284986.py:3: SettingWithCopyWarning: \n",
      "A value is trying to be set on a copy of a slice from a DataFrame.\n",
      "Try using .loc[row_indexer,col_indexer] = value instead\n",
      "\n",
      "See the caveats in the documentation: https://pandas.pydata.org/pandas-docs/stable/user_guide/indexing.html#returning-a-view-versus-a-copy\n",
      "  df_chi['month'] = df_chi['CRASH_DATE_x'].dt.month\n",
      "/var/folders/6d/1m4q0zbs33ngzwx1pxdmdjv80000gn/T/ipykernel_6396/4206284986.py:4: SettingWithCopyWarning: \n",
      "A value is trying to be set on a copy of a slice from a DataFrame.\n",
      "Try using .loc[row_indexer,col_indexer] = value instead\n",
      "\n",
      "See the caveats in the documentation: https://pandas.pydata.org/pandas-docs/stable/user_guide/indexing.html#returning-a-view-versus-a-copy\n",
      "  df_chi['day'] = df_chi['CRASH_DATE_x'].dt.day\n"
     ]
    }
   ],
   "source": [
    "df_chi['CRASH_DATE_x'] = pd.to_datetime(df_chi['CRASH_DATE_x'])\n",
    "df_chi['year'] = df_chi['CRASH_DATE_x'].dt.year\n",
    "df_chi['month'] = df_chi['CRASH_DATE_x'].dt.month\n",
    "df_chi['day'] = df_chi['CRASH_DATE_x'].dt.day"
   ]
  },
  {
   "cell_type": "code",
   "execution_count": 45,
   "id": "992b38df",
   "metadata": {},
   "outputs": [],
   "source": [
    "INJURY_dict = {'NO INDICATION OF INJURY' : 0, 'REPORTED, NOT EVIDENT' : 0, 'NONINCAPACITATING INJURY' : 1, 'INCAPACITATING INJURY' : 1 , 'FATAL' : 1}"
   ]
  },
  {
   "cell_type": "code",
   "execution_count": 46,
   "id": "c82f659e",
   "metadata": {},
   "outputs": [
    {
     "name": "stderr",
     "output_type": "stream",
     "text": [
      "/var/folders/6d/1m4q0zbs33ngzwx1pxdmdjv80000gn/T/ipykernel_6396/4230698561.py:1: SettingWithCopyWarning: \n",
      "A value is trying to be set on a copy of a slice from a DataFrame.\n",
      "Try using .loc[row_indexer,col_indexer] = value instead\n",
      "\n",
      "See the caveats in the documentation: https://pandas.pydata.org/pandas-docs/stable/user_guide/indexing.html#returning-a-view-versus-a-copy\n",
      "  df_chi['INJURY_CLASSIFICATION'] = df_chi['INJURY_CLASSIFICATION'].map(INJURY_dict)\n"
     ]
    }
   ],
   "source": [
    "df_chi['INJURY_CLASSIFICATION'] = df_chi['INJURY_CLASSIFICATION'].map(INJURY_dict)"
   ]
  },
  {
   "cell_type": "code",
   "execution_count": 47,
   "id": "4b55d79c",
   "metadata": {},
   "outputs": [
    {
     "data": {
      "text/plain": [
       "0.0    655084\n",
       "1.0     25390\n",
       "Name: INJURY_CLASSIFICATION, dtype: int64"
      ]
     },
     "execution_count": 47,
     "metadata": {},
     "output_type": "execute_result"
    }
   ],
   "source": [
    "df_chi.INJURY_CLASSIFICATION.value_counts()"
   ]
  },
  {
   "cell_type": "code",
   "execution_count": 48,
   "id": "96f96ad5",
   "metadata": {},
   "outputs": [
    {
     "name": "stderr",
     "output_type": "stream",
     "text": [
      "/var/folders/6d/1m4q0zbs33ngzwx1pxdmdjv80000gn/T/ipykernel_6396/2610641062.py:1: SettingWithCopyWarning: \n",
      "A value is trying to be set on a copy of a slice from a DataFrame.\n",
      "Try using .loc[row_indexer,col_indexer] = value instead\n",
      "\n",
      "See the caveats in the documentation: https://pandas.pydata.org/pandas-docs/stable/user_guide/indexing.html#returning-a-view-versus-a-copy\n",
      "  df_chi['AGE'] = df_chi['AGE'].fillna(df_chi['AGE'].mean())\n"
     ]
    }
   ],
   "source": [
    "df_chi['AGE'] = df_chi['AGE'].fillna(df_chi['AGE'].mean())"
   ]
  },
  {
   "cell_type": "code",
   "execution_count": 49,
   "id": "246eeba0",
   "metadata": {},
   "outputs": [
    {
     "name": "stderr",
     "output_type": "stream",
     "text": [
      "/var/folders/6d/1m4q0zbs33ngzwx1pxdmdjv80000gn/T/ipykernel_6396/1560471368.py:1: SettingWithCopyWarning: \n",
      "A value is trying to be set on a copy of a slice from a DataFrame.\n",
      "Try using .loc[row_indexer,col_indexer] = value instead\n",
      "\n",
      "See the caveats in the documentation: https://pandas.pydata.org/pandas-docs/stable/user_guide/indexing.html#returning-a-view-versus-a-copy\n",
      "  df_chi['VEHICLE_YEAR'] = df_chi['VEHICLE_YEAR'].fillna(df_chi['VEHICLE_YEAR'].mean())\n"
     ]
    }
   ],
   "source": [
    "df_chi['VEHICLE_YEAR'] = df_chi['VEHICLE_YEAR'].fillna(df_chi['VEHICLE_YEAR'].mean())"
   ]
  },
  {
   "cell_type": "code",
   "execution_count": 50,
   "id": "04c65d8f",
   "metadata": {},
   "outputs": [],
   "source": [
    "df_chi = df_chi.dropna()\n",
    "\n"
   ]
  },
  {
   "cell_type": "code",
   "execution_count": 51,
   "id": "b24cd7e1",
   "metadata": {},
   "outputs": [],
   "source": [
    "DEFECT_dict = {'NO DEFECTS' : 0, 'UNKNOWN' : 0,\n",
    "              'OTHER' : 1, 'WORN SURFACE' : 2 ,\n",
    "              'SHOULDER DEFECT' : 2,'RUT, HOLES' : 3, 'DEBRIS ON ROADWAY' : 3,}"
   ]
  },
  {
   "cell_type": "code",
   "execution_count": 52,
   "id": "e6b0c200",
   "metadata": {},
   "outputs": [
    {
     "name": "stderr",
     "output_type": "stream",
     "text": [
      "/var/folders/6d/1m4q0zbs33ngzwx1pxdmdjv80000gn/T/ipykernel_6396/1507193232.py:1: SettingWithCopyWarning: \n",
      "A value is trying to be set on a copy of a slice from a DataFrame.\n",
      "Try using .loc[row_indexer,col_indexer] = value instead\n",
      "\n",
      "See the caveats in the documentation: https://pandas.pydata.org/pandas-docs/stable/user_guide/indexing.html#returning-a-view-versus-a-copy\n",
      "  df_chi['ROAD_DEFECT'] = df_chi['ROAD_DEFECT'].map(DEFECT_dict)\n"
     ]
    }
   ],
   "source": [
    "df_chi['ROAD_DEFECT'] = df_chi['ROAD_DEFECT'].map(DEFECT_dict)"
   ]
  },
  {
   "cell_type": "code",
   "execution_count": 53,
   "id": "0b398244",
   "metadata": {},
   "outputs": [],
   "source": [
    "SURFAC_dict = {'DRY' : 0, 'UNKNOWN' : 0,\n",
    "              'WET' : 1, 'SAND, MUD, DIRT ' : 2 ,'OTHER' : 2,\n",
    "              'SNOW OR SLUSH' : 3,'ICE ' : 4}"
   ]
  },
  {
   "cell_type": "code",
   "execution_count": 54,
   "id": "ca7d99a2",
   "metadata": {},
   "outputs": [],
   "source": [
    "df_chi['ROADWAY_SURFACE_COND'] = df_chi['ROADWAY_SURFACE_COND'].map(SURFAC_dict)"
   ]
  },
  {
   "cell_type": "code",
   "execution_count": 55,
   "id": "cab0844f",
   "metadata": {},
   "outputs": [],
   "source": [
    "ALIGNMENT_dict = {'STRAIGHT AND LEVEL' : 0, 'STRAIGHT ON GRADE ' : 1,\n",
    "              'CURVE, LEVEL ' : 2, 'STRAIGHT ON HILLCREST' : 2 ,'CURVE ON GRADE' : 3,\n",
    "              'CURVE ON HILLCREST' : 3}"
   ]
  },
  {
   "cell_type": "code",
   "execution_count": 56,
   "id": "d6eca6b3",
   "metadata": {},
   "outputs": [],
   "source": [
    "df_chi['ALIGNMENT'] = df_chi['ALIGNMENT'].map(ALIGNMENT_dict)"
   ]
  },
  {
   "cell_type": "code",
   "execution_count": 57,
   "id": "5a5f72aa",
   "metadata": {},
   "outputs": [],
   "source": [
    "WEATHER_dict = {'CLEAR' : 0, 'UNKNOWN' : 0 ,  'RAIN' : 1,\n",
    "                'CLOUDY/OVERCAST' : 1, 'FREEZING RAIN/DRIZZLE ' : 2, 'OTHER' : 2 ,\n",
    "                'FOG/SMOKE/HAZE' : 3, 'SNOW' : 4,  'BLOWING SNOW' : 4, 'SLEET/HAIL' : 4, \n",
    "                'SEVERE CROSS WIND GATE' : 5, 'BLOWING SAND, SOIL, DIRT' : 5}"
   ]
  },
  {
   "cell_type": "code",
   "execution_count": 58,
   "id": "822ffac4",
   "metadata": {},
   "outputs": [],
   "source": [
    "df_chi['WEATHER_CONDITION'] = df_chi['WEATHER_CONDITION'].map(WEATHER_dict)"
   ]
  },
  {
   "cell_type": "code",
   "execution_count": 59,
   "id": "4d230300",
   "metadata": {},
   "outputs": [],
   "source": [
    "LIGHTING_dict = {'DAYLIGHT' : 0, 'DARKNESS, LIGHTED ROAD' : 1 ,  'DARKNESS' : 3,\n",
    "                'UNKNOWN' : 0, 'DUSK ' : 2, 'DAWN' : 2}"
   ]
  },
  {
   "cell_type": "code",
   "execution_count": 60,
   "id": "432a0d71",
   "metadata": {},
   "outputs": [],
   "source": [
    "df_chi['LIGHTING_CONDITION'] = df_chi['LIGHTING_CONDITION'].map(LIGHTING_dict)"
   ]
  },
  {
   "cell_type": "code",
   "execution_count": 61,
   "id": "26c31c8e",
   "metadata": {},
   "outputs": [],
   "source": [
    "df_chi = df_chi.drop(['MODEL', 'MAKE', 'CRASH_DATE_x', 'VEHICLE_TYPE', 'VEHICLE_USE', 'DAMAGE', 'CRASH_TYPE'], axis=1)"
   ]
  },
  {
   "cell_type": "code",
   "execution_count": 62,
   "id": "3ec36e40",
   "metadata": {},
   "outputs": [],
   "source": [
    "df_chi = df_chi.dropna()"
   ]
  },
  {
   "cell_type": "code",
   "execution_count": 63,
   "id": "f85bf1b1",
   "metadata": {},
   "outputs": [],
   "source": [
    "cols = ['POSTED_SPEED_LIMIT', 'TRAFFIC_CONTROL_DEVICE', 'DEVICE_CONDITION',\n",
    "       'WEATHER_CONDITION', 'LIGHTING_CONDITION', 'FIRST_CRASH_TYPE',\n",
    "       'TRAFFICWAY_TYPE', 'ALIGNMENT', 'ROADWAY_SURFACE_COND', 'ROAD_DEFECT',\n",
    "       'PRIM_CONTRIBUTORY_CAUSE', 'SEC_CONTRIBUTORY_CAUSE', \n",
    "       'BEAT_OF_OCCURRENCE', \n",
    "       'MANEUVER', 'FIRST_CONTACT_POINT', 'SEX', 'AGE', 'EJECTION', 'year', 'month', 'day']"
   ]
  },
  {
   "cell_type": "code",
   "execution_count": 64,
   "id": "229985f9",
   "metadata": {},
   "outputs": [],
   "source": [
    "X = df_chi[cols]\n",
    "y = df_chi['INJURY_CLASSIFICATION']\n",
    "\n",
    "X_train, X_test, y_train, y_test = train_test_split(X,y, test_size = .33 , random_state =42)\n",
    "\n"
   ]
  },
  {
   "cell_type": "code",
   "execution_count": 65,
   "id": "315e7b16",
   "metadata": {
    "scrolled": true
   },
   "outputs": [
    {
     "data": {
      "text/plain": [
       "POSTED_SPEED_LIMIT         0\n",
       "TRAFFIC_CONTROL_DEVICE     0\n",
       "DEVICE_CONDITION           0\n",
       "WEATHER_CONDITION          0\n",
       "LIGHTING_CONDITION         0\n",
       "FIRST_CRASH_TYPE           0\n",
       "TRAFFICWAY_TYPE            0\n",
       "ALIGNMENT                  0\n",
       "ROADWAY_SURFACE_COND       0\n",
       "ROAD_DEFECT                0\n",
       "PRIM_CONTRIBUTORY_CAUSE    0\n",
       "SEC_CONTRIBUTORY_CAUSE     0\n",
       "BEAT_OF_OCCURRENCE         0\n",
       "MANEUVER                   0\n",
       "FIRST_CONTACT_POINT        0\n",
       "SEX                        0\n",
       "AGE                        0\n",
       "EJECTION                   0\n",
       "year                       0\n",
       "month                      0\n",
       "day                        0\n",
       "dtype: int64"
      ]
     },
     "execution_count": 65,
     "metadata": {},
     "output_type": "execute_result"
    }
   ],
   "source": [
    "X_train.isna().sum()"
   ]
  },
  {
   "cell_type": "code",
   "execution_count": 66,
   "id": "1c03a167",
   "metadata": {},
   "outputs": [
    {
     "data": {
      "text/plain": [
       "Index(['POSTED_SPEED_LIMIT', 'TRAFFIC_CONTROL_DEVICE', 'DEVICE_CONDITION',\n",
       "       'WEATHER_CONDITION', 'LIGHTING_CONDITION', 'FIRST_CRASH_TYPE',\n",
       "       'TRAFFICWAY_TYPE', 'ALIGNMENT', 'ROADWAY_SURFACE_COND', 'ROAD_DEFECT',\n",
       "       'PRIM_CONTRIBUTORY_CAUSE', 'SEC_CONTRIBUTORY_CAUSE',\n",
       "       'BEAT_OF_OCCURRENCE', 'MANEUVER', 'FIRST_CONTACT_POINT', 'SEX', 'AGE',\n",
       "       'EJECTION', 'year', 'month', 'day'],\n",
       "      dtype='object')"
      ]
     },
     "execution_count": 66,
     "metadata": {},
     "output_type": "execute_result"
    }
   ],
   "source": [
    "X_train.columns"
   ]
  },
  {
   "cell_type": "code",
   "execution_count": 67,
   "id": "70909fc1",
   "metadata": {
    "scrolled": true
   },
   "outputs": [
    {
     "name": "stdout",
     "output_type": "stream",
     "text": [
      "CPU times: user 2min 47s, sys: 4.72 s, total: 2min 52s\n",
      "Wall time: 2min 43s\n"
     ]
    },
    {
     "data": {
      "text/plain": [
       "Pipeline(steps=[('preprocess',\n",
       "                 ColumnTransformer(transformers=[('nominalpipe',\n",
       "                                                  Pipeline(steps=[('onehotimputer',\n",
       "                                                                   SimpleImputer(strategy='most_frequent')),\n",
       "                                                                  ('onehotenc',\n",
       "                                                                   OneHotEncoder(drop='first',\n",
       "                                                                                 handle_unknown='ignore',\n",
       "                                                                                 sparse=False)),\n",
       "                                                                  ('onehotnorm',\n",
       "                                                                   MaxAbsScaler())]),\n",
       "                                                  ['TRAFFIC_CONTROL_DEVICE',\n",
       "                                                   'DEVICE_CONDITION',\n",
       "                                                   'FIRST_CRASH_TYPE',\n",
       "                                                   'TRAFFICWAY_TYPE',\n",
       "                                                   'FIRST...\n",
       "                                                   'FIRST_CONTACT_POINT', 'SEX',\n",
       "                                                   'EJECTION']),\n",
       "                                                 ('numpipe',\n",
       "                                                  Pipeline(steps=[('scaler',\n",
       "                                                                   StandardScaler())]),\n",
       "                                                  Index(['POSTED_SPEED_LIMIT', 'WEATHER_CONDITION', 'LIGHTING_CONDITION',\n",
       "       'ALIGNMENT', 'ROADWAY_SURFACE_COND', 'ROAD_DEFECT',\n",
       "       'BEAT_OF_OCCURRENCE', 'AGE', 'year', 'month', 'day'],\n",
       "      dtype='object'))])),\n",
       "                ('smote', SMOTE(random_state=42)),\n",
       "                ('model', RandomForestClassifier(random_state=42))])"
      ]
     },
     "execution_count": 67,
     "metadata": {},
     "output_type": "execute_result"
    }
   ],
   "source": [
    "%%time\n",
    "\n",
    "forest_pipeline = Pipeline(steps=[('scaler', StandardScaler())])\n",
    "\n",
    "nominal_pipeline = Pipeline([\n",
    "    ('onehotimputer', SimpleImputer(strategy = 'most_frequent')),\n",
    "    ('onehotenc', OneHotEncoder(sparse = False, drop = 'first', handle_unknown='ignore')), \n",
    "    ('onehotnorm', MaxAbsScaler())])\n",
    "\n",
    "num_cols = X_train.select_dtypes(['int', 'float']).columns\n",
    "\n",
    "ct = ColumnTransformer(\n",
    "    [ (\"nominalpipe\", nominal_pipeline, ['TRAFFIC_CONTROL_DEVICE','DEVICE_CONDITION', 'FIRST_CRASH_TYPE', 'TRAFFICWAY_TYPE',\n",
    "                                       'FIRST_CRASH_TYPE', 'PRIM_CONTRIBUTORY_CAUSE', 'SEC_CONTRIBUTORY_CAUSE', \n",
    "                                         'MANEUVER', 'FIRST_CONTACT_POINT', 'SEX', 'EJECTION']),\n",
    "     (\"numpipe\", forest_pipeline, num_cols)])\n",
    "\n",
    "final_pipe = Pipeline([('preprocess', ct),\n",
    "                       ('smote', SMOTE(random_state=42)),\n",
    "                      ('model', RandomForestClassifier(random_state=42))])\n",
    "\n",
    "final_pipe.fit(X_train, y_train)\n",
    "\n",
    "\n",
    "\n"
   ]
  },
  {
   "cell_type": "code",
   "execution_count": 68,
   "id": "32ca8bd9",
   "metadata": {},
   "outputs": [
    {
     "name": "stdout",
     "output_type": "stream",
     "text": [
      "0.9674130631622739\n"
     ]
    }
   ],
   "source": [
    "scores = final_pipe.score(X_test, y_test)\n",
    "print(scores)"
   ]
  },
  {
   "cell_type": "code",
   "execution_count": 69,
   "id": "0705f26a",
   "metadata": {},
   "outputs": [
    {
     "data": {
      "text/plain": [
       "array([[197423,    390],\n",
       "       [  6268,    234]])"
      ]
     },
     "execution_count": 69,
     "metadata": {},
     "output_type": "execute_result"
    }
   ],
   "source": [
    "preds = final_pipe.predict(X_test)\n",
    "confusion_matrix(y_test, preds)"
   ]
  },
  {
   "cell_type": "code",
   "execution_count": 70,
   "id": "6d9639e0",
   "metadata": {},
   "outputs": [
    {
     "name": "stdout",
     "output_type": "stream",
     "text": [
      "              precision    recall  f1-score   support\n",
      "\n",
      "         0.0       0.97      1.00      0.98    197813\n",
      "         1.0       0.38      0.04      0.07      6502\n",
      "\n",
      "    accuracy                           0.97    204315\n",
      "   macro avg       0.67      0.52      0.52    204315\n",
      "weighted avg       0.95      0.97      0.95    204315\n",
      "\n"
     ]
    }
   ],
   "source": [
    "y_pred = final_pipe.predict(X_test)\n",
    "print(classification_report(y_test, y_pred))"
   ]
  },
  {
   "cell_type": "code",
   "execution_count": 71,
   "id": "b3741a1a",
   "metadata": {},
   "outputs": [
    {
     "name": "stdout",
     "output_type": "stream",
     "text": [
      "Precision: 0.38\n",
      "Recall: 0.04\n",
      "F1 score: 0.07\n"
     ]
    }
   ],
   "source": [
    "y_pred = final_pipe.predict(X_test)\n",
    "precision = precision_score(y_test, y_pred)\n",
    "recall = recall_score(y_test, y_pred)\n",
    "f1 = f1_score(y_test, y_pred)\n",
    "\n",
    "print(\"Precision: {:.2f}\".format(precision))\n",
    "print(\"Recall: {:.2f}\".format(recall))\n",
    "print(\"F1 score: {:.2f}\".format(f1))"
   ]
  },
  {
   "cell_type": "code",
   "execution_count": 72,
   "id": "c0c1bfeb",
   "metadata": {},
   "outputs": [
    {
     "name": "stdout",
     "output_type": "stream",
     "text": [
      "The values that will be used for the grid search are:\n",
      "{'n_estimators': [20, 28, 37, 46, 55, 64, 73, 82, 91, 100], 'max_features': ['auto'], 'max_depth': [10, 21, 32, 43, 54, 65, 76, 87, 98, 110, None], 'min_samples_split': [2, 5, 10], 'min_samples_leaf': [1, 2, 4], 'bootstrap': [True, False]}\n",
      "\n",
      "*****Performing the Grid Search of the Hyperparameters*****\n",
      "Fitting 3 folds for each of 1980 candidates, totalling 5940 fits\n"
     ]
    },
    {
     "ename": "PicklingError",
     "evalue": "Could not pickle the task to send it to the workers.",
     "output_type": "error",
     "traceback": [
      "\u001b[0;31m---------------------------------------------------------------------------\u001b[0m",
      "\u001b[0;31m_RemoteTraceback\u001b[0m                          Traceback (most recent call last)",
      "\u001b[0;31m_RemoteTraceback\u001b[0m: \n\"\"\"\nTraceback (most recent call last):\n  File \"/Users/patrickpriestley/opt/anaconda3/lib/python3.9/site-packages/joblib/externals/loky/backend/queues.py\", line 125, in _feed\n    obj_ = dumps(obj, reducers=reducers)\n  File \"/Users/patrickpriestley/opt/anaconda3/lib/python3.9/site-packages/joblib/externals/loky/backend/reduction.py\", line 211, in dumps\n    dump(obj, buf, reducers=reducers, protocol=protocol)\n  File \"/Users/patrickpriestley/opt/anaconda3/lib/python3.9/site-packages/joblib/externals/loky/backend/reduction.py\", line 204, in dump\n    _LokyPickler(file, reducers=reducers, protocol=protocol).dump(obj)\n  File \"/Users/patrickpriestley/opt/anaconda3/lib/python3.9/site-packages/joblib/externals/cloudpickle/cloudpickle_fast.py\", line 632, in dump\n    return Pickler.dump(self, obj)\n  File \"/Users/patrickpriestley/opt/anaconda3/lib/python3.9/site-packages/joblib/_memmapping_reducer.py\", line 446, in __call__\n    for dumped_filename in dump(a, filename):\n  File \"/Users/patrickpriestley/opt/anaconda3/lib/python3.9/site-packages/joblib/numpy_pickle.py\", line 553, in dump\n    NumpyPickler(f, protocol=protocol).dump(value)\n  File \"/Users/patrickpriestley/opt/anaconda3/lib/python3.9/pickle.py\", line 487, in dump\n    self.save(obj)\n  File \"/Users/patrickpriestley/opt/anaconda3/lib/python3.9/site-packages/joblib/numpy_pickle.py\", line 352, in save\n    wrapper.write_array(obj, self)\n  File \"/Users/patrickpriestley/opt/anaconda3/lib/python3.9/site-packages/joblib/numpy_pickle.py\", line 134, in write_array\n    pickler.file_handle.write(chunk.tobytes('C'))\nOSError: [Errno 28] No space left on device\n\"\"\"",
      "\nThe above exception was the direct cause of the following exception:\n",
      "\u001b[0;31mPicklingError\u001b[0m                             Traceback (most recent call last)",
      "Input \u001b[0;32mIn [72]\u001b[0m, in \u001b[0;36m<cell line: 44>\u001b[0;34m()\u001b[0m\n\u001b[1;32m     41\u001b[0m grid_search \u001b[38;5;241m=\u001b[39m GridSearchCV(estimator \u001b[38;5;241m=\u001b[39m rf_reg, param_grid \u001b[38;5;241m=\u001b[39m grid, cv \u001b[38;5;241m=\u001b[39m \u001b[38;5;241m3\u001b[39m, n_jobs \u001b[38;5;241m=\u001b[39m \u001b[38;5;241m-\u001b[39m\u001b[38;5;241m1\u001b[39m, verbose \u001b[38;5;241m=\u001b[39m \u001b[38;5;241m1\u001b[39m)\n\u001b[1;32m     43\u001b[0m \u001b[38;5;66;03m# Train the classifier\u001b[39;00m\n\u001b[0;32m---> 44\u001b[0m best_grid \u001b[38;5;241m=\u001b[39m \u001b[43mgrid_search\u001b[49m\u001b[38;5;241;43m.\u001b[39;49m\u001b[43mfit\u001b[49m\u001b[43m(\u001b[49m\u001b[43mX_train\u001b[49m\u001b[43m,\u001b[49m\u001b[43m \u001b[49m\u001b[43my_train\u001b[49m\u001b[43m)\u001b[49m\n\u001b[1;32m     46\u001b[0m \u001b[38;5;66;03m# Make predictions\u001b[39;00m\n\u001b[1;32m     47\u001b[0m grid_preds \u001b[38;5;241m=\u001b[39m best_grid\u001b[38;5;241m.\u001b[39mpredict(X_test)\n",
      "File \u001b[0;32m~/opt/anaconda3/lib/python3.9/site-packages/sklearn/model_selection/_search.py:891\u001b[0m, in \u001b[0;36mBaseSearchCV.fit\u001b[0;34m(self, X, y, groups, **fit_params)\u001b[0m\n\u001b[1;32m    885\u001b[0m     results \u001b[38;5;241m=\u001b[39m \u001b[38;5;28mself\u001b[39m\u001b[38;5;241m.\u001b[39m_format_results(\n\u001b[1;32m    886\u001b[0m         all_candidate_params, n_splits, all_out, all_more_results\n\u001b[1;32m    887\u001b[0m     )\n\u001b[1;32m    889\u001b[0m     \u001b[38;5;28;01mreturn\u001b[39;00m results\n\u001b[0;32m--> 891\u001b[0m \u001b[38;5;28;43mself\u001b[39;49m\u001b[38;5;241;43m.\u001b[39;49m\u001b[43m_run_search\u001b[49m\u001b[43m(\u001b[49m\u001b[43mevaluate_candidates\u001b[49m\u001b[43m)\u001b[49m\n\u001b[1;32m    893\u001b[0m \u001b[38;5;66;03m# multimetric is determined here because in the case of a callable\u001b[39;00m\n\u001b[1;32m    894\u001b[0m \u001b[38;5;66;03m# self.scoring the return type is only known after calling\u001b[39;00m\n\u001b[1;32m    895\u001b[0m first_test_score \u001b[38;5;241m=\u001b[39m all_out[\u001b[38;5;241m0\u001b[39m][\u001b[38;5;124m\"\u001b[39m\u001b[38;5;124mtest_scores\u001b[39m\u001b[38;5;124m\"\u001b[39m]\n",
      "File \u001b[0;32m~/opt/anaconda3/lib/python3.9/site-packages/sklearn/model_selection/_search.py:1392\u001b[0m, in \u001b[0;36mGridSearchCV._run_search\u001b[0;34m(self, evaluate_candidates)\u001b[0m\n\u001b[1;32m   1390\u001b[0m \u001b[38;5;28;01mdef\u001b[39;00m \u001b[38;5;21m_run_search\u001b[39m(\u001b[38;5;28mself\u001b[39m, evaluate_candidates):\n\u001b[1;32m   1391\u001b[0m     \u001b[38;5;124;03m\"\"\"Search all candidates in param_grid\"\"\"\u001b[39;00m\n\u001b[0;32m-> 1392\u001b[0m     \u001b[43mevaluate_candidates\u001b[49m\u001b[43m(\u001b[49m\u001b[43mParameterGrid\u001b[49m\u001b[43m(\u001b[49m\u001b[38;5;28;43mself\u001b[39;49m\u001b[38;5;241;43m.\u001b[39;49m\u001b[43mparam_grid\u001b[49m\u001b[43m)\u001b[49m\u001b[43m)\u001b[49m\n",
      "File \u001b[0;32m~/opt/anaconda3/lib/python3.9/site-packages/sklearn/model_selection/_search.py:838\u001b[0m, in \u001b[0;36mBaseSearchCV.fit.<locals>.evaluate_candidates\u001b[0;34m(candidate_params, cv, more_results)\u001b[0m\n\u001b[1;32m    830\u001b[0m \u001b[38;5;28;01mif\u001b[39;00m \u001b[38;5;28mself\u001b[39m\u001b[38;5;241m.\u001b[39mverbose \u001b[38;5;241m>\u001b[39m \u001b[38;5;241m0\u001b[39m:\n\u001b[1;32m    831\u001b[0m     \u001b[38;5;28mprint\u001b[39m(\n\u001b[1;32m    832\u001b[0m         \u001b[38;5;124m\"\u001b[39m\u001b[38;5;124mFitting \u001b[39m\u001b[38;5;132;01m{0}\u001b[39;00m\u001b[38;5;124m folds for each of \u001b[39m\u001b[38;5;132;01m{1}\u001b[39;00m\u001b[38;5;124m candidates,\u001b[39m\u001b[38;5;124m\"\u001b[39m\n\u001b[1;32m    833\u001b[0m         \u001b[38;5;124m\"\u001b[39m\u001b[38;5;124m totalling \u001b[39m\u001b[38;5;132;01m{2}\u001b[39;00m\u001b[38;5;124m fits\u001b[39m\u001b[38;5;124m\"\u001b[39m\u001b[38;5;241m.\u001b[39mformat(\n\u001b[1;32m    834\u001b[0m             n_splits, n_candidates, n_candidates \u001b[38;5;241m*\u001b[39m n_splits\n\u001b[1;32m    835\u001b[0m         )\n\u001b[1;32m    836\u001b[0m     )\n\u001b[0;32m--> 838\u001b[0m out \u001b[38;5;241m=\u001b[39m \u001b[43mparallel\u001b[49m\u001b[43m(\u001b[49m\n\u001b[1;32m    839\u001b[0m \u001b[43m    \u001b[49m\u001b[43mdelayed\u001b[49m\u001b[43m(\u001b[49m\u001b[43m_fit_and_score\u001b[49m\u001b[43m)\u001b[49m\u001b[43m(\u001b[49m\n\u001b[1;32m    840\u001b[0m \u001b[43m        \u001b[49m\u001b[43mclone\u001b[49m\u001b[43m(\u001b[49m\u001b[43mbase_estimator\u001b[49m\u001b[43m)\u001b[49m\u001b[43m,\u001b[49m\n\u001b[1;32m    841\u001b[0m \u001b[43m        \u001b[49m\u001b[43mX\u001b[49m\u001b[43m,\u001b[49m\n\u001b[1;32m    842\u001b[0m \u001b[43m        \u001b[49m\u001b[43my\u001b[49m\u001b[43m,\u001b[49m\n\u001b[1;32m    843\u001b[0m \u001b[43m        \u001b[49m\u001b[43mtrain\u001b[49m\u001b[38;5;241;43m=\u001b[39;49m\u001b[43mtrain\u001b[49m\u001b[43m,\u001b[49m\n\u001b[1;32m    844\u001b[0m \u001b[43m        \u001b[49m\u001b[43mtest\u001b[49m\u001b[38;5;241;43m=\u001b[39;49m\u001b[43mtest\u001b[49m\u001b[43m,\u001b[49m\n\u001b[1;32m    845\u001b[0m \u001b[43m        \u001b[49m\u001b[43mparameters\u001b[49m\u001b[38;5;241;43m=\u001b[39;49m\u001b[43mparameters\u001b[49m\u001b[43m,\u001b[49m\n\u001b[1;32m    846\u001b[0m \u001b[43m        \u001b[49m\u001b[43msplit_progress\u001b[49m\u001b[38;5;241;43m=\u001b[39;49m\u001b[43m(\u001b[49m\u001b[43msplit_idx\u001b[49m\u001b[43m,\u001b[49m\u001b[43m \u001b[49m\u001b[43mn_splits\u001b[49m\u001b[43m)\u001b[49m\u001b[43m,\u001b[49m\n\u001b[1;32m    847\u001b[0m \u001b[43m        \u001b[49m\u001b[43mcandidate_progress\u001b[49m\u001b[38;5;241;43m=\u001b[39;49m\u001b[43m(\u001b[49m\u001b[43mcand_idx\u001b[49m\u001b[43m,\u001b[49m\u001b[43m \u001b[49m\u001b[43mn_candidates\u001b[49m\u001b[43m)\u001b[49m\u001b[43m,\u001b[49m\n\u001b[1;32m    848\u001b[0m \u001b[43m        \u001b[49m\u001b[38;5;241;43m*\u001b[39;49m\u001b[38;5;241;43m*\u001b[39;49m\u001b[43mfit_and_score_kwargs\u001b[49m\u001b[43m,\u001b[49m\n\u001b[1;32m    849\u001b[0m \u001b[43m    \u001b[49m\u001b[43m)\u001b[49m\n\u001b[1;32m    850\u001b[0m \u001b[43m    \u001b[49m\u001b[38;5;28;43;01mfor\u001b[39;49;00m\u001b[43m \u001b[49m\u001b[43m(\u001b[49m\u001b[43mcand_idx\u001b[49m\u001b[43m,\u001b[49m\u001b[43m \u001b[49m\u001b[43mparameters\u001b[49m\u001b[43m)\u001b[49m\u001b[43m,\u001b[49m\u001b[43m \u001b[49m\u001b[43m(\u001b[49m\u001b[43msplit_idx\u001b[49m\u001b[43m,\u001b[49m\u001b[43m \u001b[49m\u001b[43m(\u001b[49m\u001b[43mtrain\u001b[49m\u001b[43m,\u001b[49m\u001b[43m \u001b[49m\u001b[43mtest\u001b[49m\u001b[43m)\u001b[49m\u001b[43m)\u001b[49m\u001b[43m \u001b[49m\u001b[38;5;129;43;01min\u001b[39;49;00m\u001b[43m \u001b[49m\u001b[43mproduct\u001b[49m\u001b[43m(\u001b[49m\n\u001b[1;32m    851\u001b[0m \u001b[43m        \u001b[49m\u001b[38;5;28;43menumerate\u001b[39;49m\u001b[43m(\u001b[49m\u001b[43mcandidate_params\u001b[49m\u001b[43m)\u001b[49m\u001b[43m,\u001b[49m\u001b[43m \u001b[49m\u001b[38;5;28;43menumerate\u001b[39;49m\u001b[43m(\u001b[49m\u001b[43mcv\u001b[49m\u001b[38;5;241;43m.\u001b[39;49m\u001b[43msplit\u001b[49m\u001b[43m(\u001b[49m\u001b[43mX\u001b[49m\u001b[43m,\u001b[49m\u001b[43m \u001b[49m\u001b[43my\u001b[49m\u001b[43m,\u001b[49m\u001b[43m \u001b[49m\u001b[43mgroups\u001b[49m\u001b[43m)\u001b[49m\u001b[43m)\u001b[49m\n\u001b[1;32m    852\u001b[0m \u001b[43m    \u001b[49m\u001b[43m)\u001b[49m\n\u001b[1;32m    853\u001b[0m \u001b[43m\u001b[49m\u001b[43m)\u001b[49m\n\u001b[1;32m    855\u001b[0m \u001b[38;5;28;01mif\u001b[39;00m \u001b[38;5;28mlen\u001b[39m(out) \u001b[38;5;241m<\u001b[39m \u001b[38;5;241m1\u001b[39m:\n\u001b[1;32m    856\u001b[0m     \u001b[38;5;28;01mraise\u001b[39;00m \u001b[38;5;167;01mValueError\u001b[39;00m(\n\u001b[1;32m    857\u001b[0m         \u001b[38;5;124m\"\u001b[39m\u001b[38;5;124mNo fits were performed. \u001b[39m\u001b[38;5;124m\"\u001b[39m\n\u001b[1;32m    858\u001b[0m         \u001b[38;5;124m\"\u001b[39m\u001b[38;5;124mWas the CV iterator empty? \u001b[39m\u001b[38;5;124m\"\u001b[39m\n\u001b[1;32m    859\u001b[0m         \u001b[38;5;124m\"\u001b[39m\u001b[38;5;124mWere there no candidates?\u001b[39m\u001b[38;5;124m\"\u001b[39m\n\u001b[1;32m    860\u001b[0m     )\n",
      "File \u001b[0;32m~/opt/anaconda3/lib/python3.9/site-packages/joblib/parallel.py:1098\u001b[0m, in \u001b[0;36mParallel.__call__\u001b[0;34m(self, iterable)\u001b[0m\n\u001b[1;32m   1095\u001b[0m     \u001b[38;5;28mself\u001b[39m\u001b[38;5;241m.\u001b[39m_iterating \u001b[38;5;241m=\u001b[39m \u001b[38;5;28;01mFalse\u001b[39;00m\n\u001b[1;32m   1097\u001b[0m \u001b[38;5;28;01mwith\u001b[39;00m \u001b[38;5;28mself\u001b[39m\u001b[38;5;241m.\u001b[39m_backend\u001b[38;5;241m.\u001b[39mretrieval_context():\n\u001b[0;32m-> 1098\u001b[0m     \u001b[38;5;28;43mself\u001b[39;49m\u001b[38;5;241;43m.\u001b[39;49m\u001b[43mretrieve\u001b[49m\u001b[43m(\u001b[49m\u001b[43m)\u001b[49m\n\u001b[1;32m   1099\u001b[0m \u001b[38;5;66;03m# Make sure that we get a last message telling us we are done\u001b[39;00m\n\u001b[1;32m   1100\u001b[0m elapsed_time \u001b[38;5;241m=\u001b[39m time\u001b[38;5;241m.\u001b[39mtime() \u001b[38;5;241m-\u001b[39m \u001b[38;5;28mself\u001b[39m\u001b[38;5;241m.\u001b[39m_start_time\n",
      "File \u001b[0;32m~/opt/anaconda3/lib/python3.9/site-packages/joblib/parallel.py:975\u001b[0m, in \u001b[0;36mParallel.retrieve\u001b[0;34m(self)\u001b[0m\n\u001b[1;32m    973\u001b[0m \u001b[38;5;28;01mtry\u001b[39;00m:\n\u001b[1;32m    974\u001b[0m     \u001b[38;5;28;01mif\u001b[39;00m \u001b[38;5;28mgetattr\u001b[39m(\u001b[38;5;28mself\u001b[39m\u001b[38;5;241m.\u001b[39m_backend, \u001b[38;5;124m'\u001b[39m\u001b[38;5;124msupports_timeout\u001b[39m\u001b[38;5;124m'\u001b[39m, \u001b[38;5;28;01mFalse\u001b[39;00m):\n\u001b[0;32m--> 975\u001b[0m         \u001b[38;5;28mself\u001b[39m\u001b[38;5;241m.\u001b[39m_output\u001b[38;5;241m.\u001b[39mextend(\u001b[43mjob\u001b[49m\u001b[38;5;241;43m.\u001b[39;49m\u001b[43mget\u001b[49m\u001b[43m(\u001b[49m\u001b[43mtimeout\u001b[49m\u001b[38;5;241;43m=\u001b[39;49m\u001b[38;5;28;43mself\u001b[39;49m\u001b[38;5;241;43m.\u001b[39;49m\u001b[43mtimeout\u001b[49m\u001b[43m)\u001b[49m)\n\u001b[1;32m    976\u001b[0m     \u001b[38;5;28;01melse\u001b[39;00m:\n\u001b[1;32m    977\u001b[0m         \u001b[38;5;28mself\u001b[39m\u001b[38;5;241m.\u001b[39m_output\u001b[38;5;241m.\u001b[39mextend(job\u001b[38;5;241m.\u001b[39mget())\n",
      "File \u001b[0;32m~/opt/anaconda3/lib/python3.9/site-packages/joblib/_parallel_backends.py:567\u001b[0m, in \u001b[0;36mLokyBackend.wrap_future_result\u001b[0;34m(future, timeout)\u001b[0m\n\u001b[1;32m    564\u001b[0m \u001b[38;5;124;03m\"\"\"Wrapper for Future.result to implement the same behaviour as\u001b[39;00m\n\u001b[1;32m    565\u001b[0m \u001b[38;5;124;03mAsyncResults.get from multiprocessing.\"\"\"\u001b[39;00m\n\u001b[1;32m    566\u001b[0m \u001b[38;5;28;01mtry\u001b[39;00m:\n\u001b[0;32m--> 567\u001b[0m     \u001b[38;5;28;01mreturn\u001b[39;00m \u001b[43mfuture\u001b[49m\u001b[38;5;241;43m.\u001b[39;49m\u001b[43mresult\u001b[49m\u001b[43m(\u001b[49m\u001b[43mtimeout\u001b[49m\u001b[38;5;241;43m=\u001b[39;49m\u001b[43mtimeout\u001b[49m\u001b[43m)\u001b[49m\n\u001b[1;32m    568\u001b[0m \u001b[38;5;28;01mexcept\u001b[39;00m CfTimeoutError \u001b[38;5;28;01mas\u001b[39;00m e:\n\u001b[1;32m    569\u001b[0m     \u001b[38;5;28;01mraise\u001b[39;00m \u001b[38;5;167;01mTimeoutError\u001b[39;00m \u001b[38;5;28;01mfrom\u001b[39;00m \u001b[38;5;21;01me\u001b[39;00m\n",
      "File \u001b[0;32m~/opt/anaconda3/lib/python3.9/concurrent/futures/_base.py:439\u001b[0m, in \u001b[0;36mFuture.result\u001b[0;34m(self, timeout)\u001b[0m\n\u001b[1;32m    437\u001b[0m     \u001b[38;5;28;01mraise\u001b[39;00m CancelledError()\n\u001b[1;32m    438\u001b[0m \u001b[38;5;28;01melif\u001b[39;00m \u001b[38;5;28mself\u001b[39m\u001b[38;5;241m.\u001b[39m_state \u001b[38;5;241m==\u001b[39m FINISHED:\n\u001b[0;32m--> 439\u001b[0m     \u001b[38;5;28;01mreturn\u001b[39;00m \u001b[38;5;28;43mself\u001b[39;49m\u001b[38;5;241;43m.\u001b[39;49m\u001b[43m__get_result\u001b[49m\u001b[43m(\u001b[49m\u001b[43m)\u001b[49m\n\u001b[1;32m    441\u001b[0m \u001b[38;5;28mself\u001b[39m\u001b[38;5;241m.\u001b[39m_condition\u001b[38;5;241m.\u001b[39mwait(timeout)\n\u001b[1;32m    443\u001b[0m \u001b[38;5;28;01mif\u001b[39;00m \u001b[38;5;28mself\u001b[39m\u001b[38;5;241m.\u001b[39m_state \u001b[38;5;129;01min\u001b[39;00m [CANCELLED, CANCELLED_AND_NOTIFIED]:\n",
      "File \u001b[0;32m~/opt/anaconda3/lib/python3.9/concurrent/futures/_base.py:391\u001b[0m, in \u001b[0;36mFuture.__get_result\u001b[0;34m(self)\u001b[0m\n\u001b[1;32m    389\u001b[0m \u001b[38;5;28;01mif\u001b[39;00m \u001b[38;5;28mself\u001b[39m\u001b[38;5;241m.\u001b[39m_exception:\n\u001b[1;32m    390\u001b[0m     \u001b[38;5;28;01mtry\u001b[39;00m:\n\u001b[0;32m--> 391\u001b[0m         \u001b[38;5;28;01mraise\u001b[39;00m \u001b[38;5;28mself\u001b[39m\u001b[38;5;241m.\u001b[39m_exception\n\u001b[1;32m    392\u001b[0m     \u001b[38;5;28;01mfinally\u001b[39;00m:\n\u001b[1;32m    393\u001b[0m         \u001b[38;5;66;03m# Break a reference cycle with the exception in self._exception\u001b[39;00m\n\u001b[1;32m    394\u001b[0m         \u001b[38;5;28mself\u001b[39m \u001b[38;5;241m=\u001b[39m \u001b[38;5;28;01mNone\u001b[39;00m\n",
      "\u001b[0;31mPicklingError\u001b[0m: Could not pickle the task to send it to the workers."
     ]
    }
   ],
   "source": [
    "# random forest grid search \n",
    "\n",
    "n_estimators = [int(x) for x in np.linspace(start = 20, stop = 100, num = 10)]\n",
    "# Using num=10 will significantly increase run time\n",
    "#n_estimators = [int(x) for x in np.linspace(start = 200, stop = 2000, num = 10)]\n",
    "# Number of features to consider at every split\n",
    "max_features = ['auto']\n",
    "# Maximum number of levels in tree\n",
    "# Using num=2 will significantly reduce run time (~3 min vs ~65 min)\n",
    "max_depth = [int(x) for x in np.linspace(10, 110, num = 10)]\n",
    "# Using num=10 will significantly increase run time\n",
    "#max_depth = [int(x) for x in np.linspace(10, 110, num = 10)]\n",
    "max_depth.append(None)\n",
    "# Minimum number of samples required to split a node\n",
    "min_samples_split = [2, 5, 10]\n",
    "# Minimum number of samples required at each leaf node\n",
    "min_samples_leaf = [1, 2, 4]\n",
    "# Method of selecting samples for training each tree\n",
    "bootstrap = [True, False]\n",
    "# Create the random grid\n",
    "\n",
    "\n",
    "\n",
    "\n",
    "\n",
    "grid = {'n_estimators': n_estimators,\n",
    "               'max_features': max_features,\n",
    "               'max_depth': max_depth,\n",
    "               'min_samples_split': min_samples_split,\n",
    "               'min_samples_leaf': min_samples_leaf,\n",
    "               'bootstrap': bootstrap}\n",
    "\n",
    "\n",
    "print(\"The values that will be used for the grid search are:\")\n",
    "print(grid)\n",
    "\n",
    "print(\"\\n*****Performing the Grid Search of the Hyperparameters*****\")\n",
    "# Create a regressor using values from grid\n",
    "rf_reg = RandomForestRegressor()\n",
    "# Instantiate the grid search model\n",
    "grid_search = GridSearchCV(estimator = rf_reg, param_grid = grid, cv = 3, n_jobs = -1, verbose = 1)\n",
    "\n",
    "# Train the classifier\n",
    "best_grid = grid_search.fit(X_train, y_train)\n",
    "\n",
    "# Make predictions\n",
    "grid_preds = best_grid.predict(X_test)\n",
    "\n",
    "print(\"The best hyperparameters found during the grid search are:\")\n",
    "print(best_grid.best_params_)\n"
   ]
  },
  {
   "cell_type": "code",
   "execution_count": null,
   "id": "769ba7ae",
   "metadata": {},
   "outputs": [],
   "source": []
  },
  {
   "cell_type": "code",
   "execution_count": null,
   "id": "de9a147e",
   "metadata": {},
   "outputs": [],
   "source": []
  },
  {
   "cell_type": "code",
   "execution_count": null,
   "id": "9f8bd0a7",
   "metadata": {},
   "outputs": [],
   "source": []
  },
  {
   "cell_type": "code",
   "execution_count": null,
   "id": "80bf2f74",
   "metadata": {},
   "outputs": [],
   "source": []
  },
  {
   "cell_type": "code",
   "execution_count": null,
   "id": "07d8d6ee",
   "metadata": {},
   "outputs": [],
   "source": []
  }
 ],
 "metadata": {
  "kernelspec": {
   "display_name": "Python 3 (ipykernel)",
   "language": "python",
   "name": "python3"
  },
  "language_info": {
   "codemirror_mode": {
    "name": "ipython",
    "version": 3
   },
   "file_extension": ".py",
   "mimetype": "text/x-python",
   "name": "python",
   "nbconvert_exporter": "python",
   "pygments_lexer": "ipython3",
   "version": "3.9.12"
  }
 },
 "nbformat": 4,
 "nbformat_minor": 5
}
