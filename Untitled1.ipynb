{
 "cells": [
  {
   "cell_type": "code",
   "execution_count": 1,
   "id": "98292c5b",
   "metadata": {},
   "outputs": [],
   "source": [
    "import pandas as pd\n",
    "import numpy as np \n",
    "import scipy \n",
    "from scipy import stats\n",
    "import math \n",
    "from scipy.stats import norm\n",
    "import random\n",
    "import matplotlib.pyplot as plt  \n",
    "import seaborn as sns\n",
    "import sklearn \n",
    "import statsmodels.api as sm\n",
    "from sklearn.preprocessing import OneHotEncoder\n",
    "from sklearn.model_selection import train_test_split\n",
    "from sklearn.linear_model import LogisticRegression\n",
    "from sklearn.linear_model import LinearRegression\n",
    "import statsmodels.api as sm\n",
    "from statsmodels.formula.api import ols\n",
    "from sklearn.preprocessing import StandardScaler, MaxAbsScaler\n",
    "import seaborn as sns\n",
    "from sklearn.neighbors import KNeighborsClassifier\n",
    "from sklearn.tree import DecisionTreeClassifier\n",
    "from sklearn.metrics import precision_score, recall_score, plot_confusion_matrix, confusion_matrix\n",
    "from sklearn.model_selection import train_test_split, GridSearchCV,\\\n",
    "cross_val_score, RandomizedSearchCV\n",
    "from sklearn.preprocessing import OneHotEncoder, StandardScaler, Normalizer\n",
    "from sklearn.impute import SimpleImputer\n",
    "from sklearn.pipeline import Pipeline\n",
    "from sklearn.ensemble import RandomForestClassifier\n",
    "from sklearn.preprocessing import StandardScaler\n",
    "\n",
    "from sklearn.metrics import precision_score, recall_score, f1_score\n",
    "from sklearn.ensemble import RandomForestRegressor\n",
    "from sklearn.metrics import classification_report"
   ]
  },
  {
   "cell_type": "code",
   "execution_count": 2,
   "id": "10c00de2",
   "metadata": {},
   "outputs": [],
   "source": [
    "\n",
    "import pandas as pd\n",
    "from matplotlib import pyplot as plt\n",
    "import seaborn as sns\n",
    "from scipy import stats as stats\n",
    "\n",
    "from sklearn.linear_model import LogisticRegression\n",
    "from sklearn.neighbors import KNeighborsClassifier\n",
    "from sklearn.tree import DecisionTreeClassifier\n",
    "\n",
    "from sklearn.metrics import precision_score, recall_score, plot_confusion_matrix, confusion_matrix\n",
    "from sklearn.model_selection import train_test_split, GridSearchCV,\\\n",
    "cross_val_score, RandomizedSearchCV\n",
    "\n",
    "from sklearn.preprocessing import OneHotEncoder, StandardScaler, Normalizer\n",
    "from sklearn.impute import SimpleImputer\n",
    "\n",
    "from sklearn.compose import ColumnTransformer\n",
    "from sklearn.pipeline import Pipeline\n",
    "import time\n"
   ]
  },
  {
   "cell_type": "code",
   "execution_count": 3,
   "id": "27c923f8",
   "metadata": {},
   "outputs": [],
   "source": [
    "from imblearn.over_sampling import SMOTE\n",
    "from imblearn.pipeline import Pipeline\n",
    "from imblearn.under_sampling import RandomUnderSampler"
   ]
  },
  {
   "cell_type": "markdown",
   "id": "919fe0c7",
   "metadata": {},
   "source": [
    "## import data"
   ]
  },
  {
   "cell_type": "code",
   "execution_count": 4,
   "id": "24daf343",
   "metadata": {},
   "outputs": [
    {
     "name": "stderr",
     "output_type": "stream",
     "text": [
      "/var/folders/6d/1m4q0zbs33ngzwx1pxdmdjv80000gn/T/ipykernel_7106/1488376127.py:3: DtypeWarning: Columns (20,24,25,26,29) have mixed types. Specify dtype option on import or set low_memory=False.\n",
      "  df_peop =  pd.read_csv ('/Users/patrickpriestley/Downloads/Traffic_Crashes_-_People.csv')\n",
      "/var/folders/6d/1m4q0zbs33ngzwx1pxdmdjv80000gn/T/ipykernel_7106/1488376127.py:5: DtypeWarning: Columns (19,21,40,41,42,44,48,49,50,53,55,58,59,61,71) have mixed types. Specify dtype option on import or set low_memory=False.\n",
      "  df_vhic = pd.read_csv ('/Users/patrickpriestley/Downloads/Traffic_Crashes_-_Vehicles.csv')\n"
     ]
    }
   ],
   "source": [
    "df_traf = pd.read_csv ('/Users/patrickpriestley/Downloads/Traffic_Crashes_-_Crashes.csv')   \n",
    "\n",
    "df_peop =  pd.read_csv ('/Users/patrickpriestley/Downloads/Traffic_Crashes_-_People.csv')\n",
    "\n",
    "df_vhic = pd.read_csv ('/Users/patrickpriestley/Downloads/Traffic_Crashes_-_Vehicles.csv')"
   ]
  },
  {
   "cell_type": "markdown",
   "id": "0f091400",
   "metadata": {},
   "source": [
    "## merge df's"
   ]
  },
  {
   "cell_type": "code",
   "execution_count": 5,
   "id": "747c3e3c",
   "metadata": {},
   "outputs": [],
   "source": [
    "df_m = df_peop.merge(df_vhic, how = 'left', on ='CRASH_RECORD_ID')"
   ]
  },
  {
   "cell_type": "code",
   "execution_count": 6,
   "id": "fae43015",
   "metadata": {},
   "outputs": [],
   "source": [
    "df_m = df_m.merge(df_traf, how = 'left', on = 'CRASH_RECORD_ID')"
   ]
  },
  {
   "cell_type": "code",
   "execution_count": 7,
   "id": "d99d87bc",
   "metadata": {},
   "outputs": [
    {
     "name": "stdout",
     "output_type": "stream",
     "text": [
      "['PERSON_ID', 'PERSON_TYPE', 'CRASH_RECORD_ID', 'RD_NO_x', 'VEHICLE_ID_x', 'CRASH_DATE_x', 'SEAT_NO', 'CITY', 'STATE', 'ZIPCODE', 'SEX', 'AGE', 'DRIVERS_LICENSE_STATE', 'DRIVERS_LICENSE_CLASS', 'SAFETY_EQUIPMENT', 'AIRBAG_DEPLOYED', 'EJECTION', 'INJURY_CLASSIFICATION', 'HOSPITAL', 'EMS_AGENCY', 'EMS_RUN_NO', 'DRIVER_ACTION', 'DRIVER_VISION', 'PHYSICAL_CONDITION', 'PEDPEDAL_ACTION', 'PEDPEDAL_VISIBILITY', 'PEDPEDAL_LOCATION', 'BAC_RESULT', 'BAC_RESULT VALUE', 'CELL_PHONE_USE', 'CRASH_UNIT_ID', 'RD_NO_y', 'CRASH_DATE_y', 'UNIT_NO', 'UNIT_TYPE', 'NUM_PASSENGERS', 'VEHICLE_ID_y', 'CMRC_VEH_I', 'MAKE', 'MODEL', 'LIC_PLATE_STATE', 'VEHICLE_YEAR', 'VEHICLE_DEFECT', 'VEHICLE_TYPE', 'VEHICLE_USE', 'TRAVEL_DIRECTION', 'MANEUVER', 'TOWED_I', 'FIRE_I', 'OCCUPANT_CNT', 'EXCEED_SPEED_LIMIT_I', 'TOWED_BY', 'TOWED_TO', 'AREA_00_I', 'AREA_01_I', 'AREA_02_I', 'AREA_03_I', 'AREA_04_I', 'AREA_05_I', 'AREA_06_I', 'AREA_07_I', 'AREA_08_I', 'AREA_09_I', 'AREA_10_I', 'AREA_11_I', 'AREA_12_I', 'AREA_99_I', 'FIRST_CONTACT_POINT', 'CMV_ID', 'USDOT_NO', 'CCMC_NO', 'ILCC_NO', 'COMMERCIAL_SRC', 'GVWR', 'CARRIER_NAME', 'CARRIER_STATE', 'CARRIER_CITY', 'HAZMAT_PLACARDS_I', 'HAZMAT_NAME', 'UN_NO', 'HAZMAT_PRESENT_I', 'HAZMAT_REPORT_I', 'HAZMAT_REPORT_NO', 'MCS_REPORT_I', 'MCS_REPORT_NO', 'HAZMAT_VIO_CAUSE_CRASH_I', 'MCS_VIO_CAUSE_CRASH_I', 'IDOT_PERMIT_NO', 'WIDE_LOAD_I', 'TRAILER1_WIDTH', 'TRAILER2_WIDTH', 'TRAILER1_LENGTH', 'TRAILER2_LENGTH', 'TOTAL_VEHICLE_LENGTH', 'AXLE_CNT', 'VEHICLE_CONFIG', 'CARGO_BODY_TYPE', 'LOAD_TYPE', 'HAZMAT_OUT_OF_SERVICE_I', 'MCS_OUT_OF_SERVICE_I', 'HAZMAT_CLASS', 'RD_NO', 'CRASH_DATE_EST_I', 'CRASH_DATE', 'POSTED_SPEED_LIMIT', 'TRAFFIC_CONTROL_DEVICE', 'DEVICE_CONDITION', 'WEATHER_CONDITION', 'LIGHTING_CONDITION', 'FIRST_CRASH_TYPE', 'TRAFFICWAY_TYPE', 'LANE_CNT', 'ALIGNMENT', 'ROADWAY_SURFACE_COND', 'ROAD_DEFECT', 'REPORT_TYPE', 'CRASH_TYPE', 'INTERSECTION_RELATED_I', 'NOT_RIGHT_OF_WAY_I', 'HIT_AND_RUN_I', 'DAMAGE', 'DATE_POLICE_NOTIFIED', 'PRIM_CONTRIBUTORY_CAUSE', 'SEC_CONTRIBUTORY_CAUSE', 'STREET_NO', 'STREET_DIRECTION', 'STREET_NAME', 'BEAT_OF_OCCURRENCE', 'PHOTOS_TAKEN_I', 'STATEMENTS_TAKEN_I', 'DOORING_I', 'WORK_ZONE_I', 'WORK_ZONE_TYPE', 'WORKERS_PRESENT_I', 'NUM_UNITS', 'MOST_SEVERE_INJURY', 'INJURIES_TOTAL', 'INJURIES_FATAL', 'INJURIES_INCAPACITATING', 'INJURIES_NON_INCAPACITATING', 'INJURIES_REPORTED_NOT_EVIDENT', 'INJURIES_NO_INDICATION', 'INJURIES_UNKNOWN', 'CRASH_HOUR', 'CRASH_DAY_OF_WEEK', 'CRASH_MONTH', 'LATITUDE', 'LONGITUDE', 'LOCATION']\n"
     ]
    }
   ],
   "source": [
    "print(df_m.columns.tolist())"
   ]
  },
  {
   "cell_type": "code",
   "execution_count": 8,
   "id": "7d1c5c21",
   "metadata": {},
   "outputs": [],
   "source": [
    "#df_merge = pd.merge(df_traf, df_vhic, on='CRASH_RECORD_ID' ).reset_index()"
   ]
  },
  {
   "cell_type": "code",
   "execution_count": 9,
   "id": "d5ab296a",
   "metadata": {},
   "outputs": [],
   "source": [
    "#df_merge2 = pd.merge (df_merge, df_peop, on='CRASH_RECORD_ID' ).reset_index()"
   ]
  },
  {
   "cell_type": "code",
   "execution_count": 10,
   "id": "2c3930d2",
   "metadata": {},
   "outputs": [],
   "source": [
    "#drop duplicate rows\n",
    "\n",
    "df_m = df_m.drop_duplicates (subset=['CRASH_RECORD_ID'], keep='first')"
   ]
  },
  {
   "cell_type": "markdown",
   "id": "ddb3f92c",
   "metadata": {},
   "source": [
    "## drop unnessicary rowes "
   ]
  },
  {
   "cell_type": "code",
   "execution_count": 11,
   "id": "841463a0",
   "metadata": {},
   "outputs": [],
   "source": [
    "columns = ['CRASH_DATE_x', 'POSTED_SPEED_LIMIT', 'TRAFFIC_CONTROL_DEVICE', 'DEVICE_CONDITION',   \n",
    "            'WEATHER_CONDITION', 'LIGHTING_CONDITION', 'FIRST_CRASH_TYPE', 'TRAFFICWAY_TYPE',\n",
    "            'ALIGNMENT', 'ROADWAY_SURFACE_COND', 'ROAD_DEFECT', 'CRASH_TYPE', \n",
    "            'DAMAGE',\n",
    "            'PRIM_CONTRIBUTORY_CAUSE', 'SEC_CONTRIBUTORY_CAUSE', 'STREET_DIRECTION',\n",
    "            'BEAT_OF_OCCURRENCE', 'LOCATION', 'MAKE', 'MODEL', \n",
    "            'VEHICLE_YEAR', 'VEHICLE_TYPE', 'VEHICLE_USE', 'TRAVEL_DIRECTION',\n",
    "            'MANEUVER',\n",
    "            'FIRST_CONTACT_POINT', \n",
    "            'SEX','AGE', 'EJECTION', 'INJURY_CLASSIFICATION']\n",
    "\n",
    "\n",
    "df_chi = df_m[columns]\n",
    "\n",
    "\n",
    "\n",
    "\n",
    "\n"
   ]
  },
  {
   "cell_type": "code",
   "execution_count": 12,
   "id": "b31acdef",
   "metadata": {
    "scrolled": false
   },
   "outputs": [
    {
     "name": "stderr",
     "output_type": "stream",
     "text": [
      "/var/folders/6d/1m4q0zbs33ngzwx1pxdmdjv80000gn/T/ipykernel_7106/226931865.py:3: SettingWithCopyWarning: \n",
      "A value is trying to be set on a copy of a slice from a DataFrame.\n",
      "Try using .loc[row_indexer,col_indexer] = value instead\n",
      "\n",
      "See the caveats in the documentation: https://pandas.pydata.org/pandas-docs/stable/user_guide/indexing.html#returning-a-view-versus-a-copy\n",
      "  df_chi['CRASH_DATE_x'] = pd.to_datetime(df_chi['CRASH_DATE_x'])\n",
      "/var/folders/6d/1m4q0zbs33ngzwx1pxdmdjv80000gn/T/ipykernel_7106/226931865.py:4: SettingWithCopyWarning: \n",
      "A value is trying to be set on a copy of a slice from a DataFrame.\n",
      "Try using .loc[row_indexer,col_indexer] = value instead\n",
      "\n",
      "See the caveats in the documentation: https://pandas.pydata.org/pandas-docs/stable/user_guide/indexing.html#returning-a-view-versus-a-copy\n",
      "  df_chi['year'] = df_chi['CRASH_DATE_x'].dt.year\n",
      "/var/folders/6d/1m4q0zbs33ngzwx1pxdmdjv80000gn/T/ipykernel_7106/226931865.py:5: SettingWithCopyWarning: \n",
      "A value is trying to be set on a copy of a slice from a DataFrame.\n",
      "Try using .loc[row_indexer,col_indexer] = value instead\n",
      "\n",
      "See the caveats in the documentation: https://pandas.pydata.org/pandas-docs/stable/user_guide/indexing.html#returning-a-view-versus-a-copy\n",
      "  df_chi['month'] = df_chi['CRASH_DATE_x'].dt.month\n",
      "/var/folders/6d/1m4q0zbs33ngzwx1pxdmdjv80000gn/T/ipykernel_7106/226931865.py:6: SettingWithCopyWarning: \n",
      "A value is trying to be set on a copy of a slice from a DataFrame.\n",
      "Try using .loc[row_indexer,col_indexer] = value instead\n",
      "\n",
      "See the caveats in the documentation: https://pandas.pydata.org/pandas-docs/stable/user_guide/indexing.html#returning-a-view-versus-a-copy\n",
      "  df_chi['day'] = df_chi['CRASH_DATE_x'].dt.day\n"
     ]
    }
   ],
   "source": [
    "## covert crash date to numerical columns \n",
    "\n",
    "df_chi['CRASH_DATE_x'] = pd.to_datetime(df_chi['CRASH_DATE_x'])\n",
    "df_chi['year'] = df_chi['CRASH_DATE_x'].dt.year\n",
    "df_chi['month'] = df_chi['CRASH_DATE_x'].dt.month\n",
    "df_chi['day'] = df_chi['CRASH_DATE_x'].dt.day"
   ]
  },
  {
   "cell_type": "markdown",
   "id": "a27a31e7",
   "metadata": {},
   "source": [
    "## make dicts to apply numerical value to columns "
   ]
  },
  {
   "cell_type": "code",
   "execution_count": 13,
   "id": "6984c74e",
   "metadata": {},
   "outputs": [],
   "source": [
    "INJURY_dict = {'NO INDICATION OF INJURY' : 0, 'REPORTED, NOT EVIDENT' : 0, 'NONINCAPACITATING INJURY' : 1, 'INCAPACITATING INJURY' : 1 , 'FATAL' : 1}"
   ]
  },
  {
   "cell_type": "code",
   "execution_count": 14,
   "id": "1d8fea3e",
   "metadata": {},
   "outputs": [
    {
     "name": "stderr",
     "output_type": "stream",
     "text": [
      "/var/folders/6d/1m4q0zbs33ngzwx1pxdmdjv80000gn/T/ipykernel_7106/4230698561.py:1: SettingWithCopyWarning: \n",
      "A value is trying to be set on a copy of a slice from a DataFrame.\n",
      "Try using .loc[row_indexer,col_indexer] = value instead\n",
      "\n",
      "See the caveats in the documentation: https://pandas.pydata.org/pandas-docs/stable/user_guide/indexing.html#returning-a-view-versus-a-copy\n",
      "  df_chi['INJURY_CLASSIFICATION'] = df_chi['INJURY_CLASSIFICATION'].map(INJURY_dict)\n"
     ]
    }
   ],
   "source": [
    "df_chi['INJURY_CLASSIFICATION'] = df_chi['INJURY_CLASSIFICATION'].map(INJURY_dict)"
   ]
  },
  {
   "cell_type": "code",
   "execution_count": 15,
   "id": "77257057",
   "metadata": {},
   "outputs": [
    {
     "data": {
      "text/plain": [
       "0.0    655084\n",
       "1.0     25390\n",
       "Name: INJURY_CLASSIFICATION, dtype: int64"
      ]
     },
     "execution_count": 15,
     "metadata": {},
     "output_type": "execute_result"
    }
   ],
   "source": [
    "df_chi.INJURY_CLASSIFICATION.value_counts()"
   ]
  },
  {
   "cell_type": "code",
   "execution_count": 16,
   "id": "c0d41f4b",
   "metadata": {},
   "outputs": [
    {
     "name": "stderr",
     "output_type": "stream",
     "text": [
      "/var/folders/6d/1m4q0zbs33ngzwx1pxdmdjv80000gn/T/ipykernel_7106/2610641062.py:1: SettingWithCopyWarning: \n",
      "A value is trying to be set on a copy of a slice from a DataFrame.\n",
      "Try using .loc[row_indexer,col_indexer] = value instead\n",
      "\n",
      "See the caveats in the documentation: https://pandas.pydata.org/pandas-docs/stable/user_guide/indexing.html#returning-a-view-versus-a-copy\n",
      "  df_chi['AGE'] = df_chi['AGE'].fillna(df_chi['AGE'].mean())\n"
     ]
    }
   ],
   "source": [
    "df_chi['AGE'] = df_chi['AGE'].fillna(df_chi['AGE'].mean())"
   ]
  },
  {
   "cell_type": "code",
   "execution_count": 17,
   "id": "0286d3ca",
   "metadata": {},
   "outputs": [
    {
     "name": "stderr",
     "output_type": "stream",
     "text": [
      "/var/folders/6d/1m4q0zbs33ngzwx1pxdmdjv80000gn/T/ipykernel_7106/1560471368.py:1: SettingWithCopyWarning: \n",
      "A value is trying to be set on a copy of a slice from a DataFrame.\n",
      "Try using .loc[row_indexer,col_indexer] = value instead\n",
      "\n",
      "See the caveats in the documentation: https://pandas.pydata.org/pandas-docs/stable/user_guide/indexing.html#returning-a-view-versus-a-copy\n",
      "  df_chi['VEHICLE_YEAR'] = df_chi['VEHICLE_YEAR'].fillna(df_chi['VEHICLE_YEAR'].mean())\n"
     ]
    }
   ],
   "source": [
    "df_chi['VEHICLE_YEAR'] = df_chi['VEHICLE_YEAR'].fillna(df_chi['VEHICLE_YEAR'].mean())"
   ]
  },
  {
   "cell_type": "code",
   "execution_count": 18,
   "id": "1bc08d6a",
   "metadata": {},
   "outputs": [],
   "source": [
    "df_chi = df_chi.dropna()\n"
   ]
  },
  {
   "cell_type": "code",
   "execution_count": 19,
   "id": "c9f1ef37",
   "metadata": {},
   "outputs": [
    {
     "data": {
      "text/plain": [
       "CRASH_DATE_x               0\n",
       "POSTED_SPEED_LIMIT         0\n",
       "TRAFFIC_CONTROL_DEVICE     0\n",
       "DEVICE_CONDITION           0\n",
       "WEATHER_CONDITION          0\n",
       "LIGHTING_CONDITION         0\n",
       "FIRST_CRASH_TYPE           0\n",
       "TRAFFICWAY_TYPE            0\n",
       "ALIGNMENT                  0\n",
       "ROADWAY_SURFACE_COND       0\n",
       "ROAD_DEFECT                0\n",
       "CRASH_TYPE                 0\n",
       "DAMAGE                     0\n",
       "PRIM_CONTRIBUTORY_CAUSE    0\n",
       "SEC_CONTRIBUTORY_CAUSE     0\n",
       "STREET_DIRECTION           0\n",
       "BEAT_OF_OCCURRENCE         0\n",
       "LOCATION                   0\n",
       "MAKE                       0\n",
       "MODEL                      0\n",
       "VEHICLE_YEAR               0\n",
       "VEHICLE_TYPE               0\n",
       "VEHICLE_USE                0\n",
       "TRAVEL_DIRECTION           0\n",
       "MANEUVER                   0\n",
       "FIRST_CONTACT_POINT        0\n",
       "SEX                        0\n",
       "AGE                        0\n",
       "EJECTION                   0\n",
       "INJURY_CLASSIFICATION      0\n",
       "year                       0\n",
       "month                      0\n",
       "day                        0\n",
       "dtype: int64"
      ]
     },
     "execution_count": 19,
     "metadata": {},
     "output_type": "execute_result"
    }
   ],
   "source": [
    "df_chi.isna().sum()"
   ]
  },
  {
   "cell_type": "code",
   "execution_count": 20,
   "id": "af825c37",
   "metadata": {},
   "outputs": [
    {
     "data": {
      "text/html": [
       "<div>\n",
       "<style scoped>\n",
       "    .dataframe tbody tr th:only-of-type {\n",
       "        vertical-align: middle;\n",
       "    }\n",
       "\n",
       "    .dataframe tbody tr th {\n",
       "        vertical-align: top;\n",
       "    }\n",
       "\n",
       "    .dataframe thead th {\n",
       "        text-align: right;\n",
       "    }\n",
       "</style>\n",
       "<table border=\"1\" class=\"dataframe\">\n",
       "  <thead>\n",
       "    <tr style=\"text-align: right;\">\n",
       "      <th></th>\n",
       "      <th>CRASH_DATE_x</th>\n",
       "      <th>POSTED_SPEED_LIMIT</th>\n",
       "      <th>TRAFFIC_CONTROL_DEVICE</th>\n",
       "      <th>DEVICE_CONDITION</th>\n",
       "      <th>WEATHER_CONDITION</th>\n",
       "      <th>LIGHTING_CONDITION</th>\n",
       "      <th>FIRST_CRASH_TYPE</th>\n",
       "      <th>TRAFFICWAY_TYPE</th>\n",
       "      <th>ALIGNMENT</th>\n",
       "      <th>ROADWAY_SURFACE_COND</th>\n",
       "      <th>...</th>\n",
       "      <th>TRAVEL_DIRECTION</th>\n",
       "      <th>MANEUVER</th>\n",
       "      <th>FIRST_CONTACT_POINT</th>\n",
       "      <th>SEX</th>\n",
       "      <th>AGE</th>\n",
       "      <th>EJECTION</th>\n",
       "      <th>INJURY_CLASSIFICATION</th>\n",
       "      <th>year</th>\n",
       "      <th>month</th>\n",
       "      <th>day</th>\n",
       "    </tr>\n",
       "  </thead>\n",
       "  <tbody>\n",
       "    <tr>\n",
       "      <th>0</th>\n",
       "      <td>2019-09-28 03:30:00</td>\n",
       "      <td>30.0</td>\n",
       "      <td>NO CONTROLS</td>\n",
       "      <td>NO CONTROLS</td>\n",
       "      <td>RAIN</td>\n",
       "      <td>DARKNESS</td>\n",
       "      <td>PARKED MOTOR VEHICLE</td>\n",
       "      <td>NOT DIVIDED</td>\n",
       "      <td>STRAIGHT AND LEVEL</td>\n",
       "      <td>WET</td>\n",
       "      <td>...</td>\n",
       "      <td>N</td>\n",
       "      <td>STRAIGHT AHEAD</td>\n",
       "      <td>FRONT</td>\n",
       "      <td>M</td>\n",
       "      <td>25.000000</td>\n",
       "      <td>NONE</td>\n",
       "      <td>0.0</td>\n",
       "      <td>2019</td>\n",
       "      <td>9</td>\n",
       "      <td>28</td>\n",
       "    </tr>\n",
       "    <tr>\n",
       "      <th>3</th>\n",
       "      <td>2020-04-13 22:50:00</td>\n",
       "      <td>30.0</td>\n",
       "      <td>FLASHING CONTROL SIGNAL</td>\n",
       "      <td>FUNCTIONING PROPERLY</td>\n",
       "      <td>CLEAR</td>\n",
       "      <td>DARKNESS, LIGHTED ROAD</td>\n",
       "      <td>SIDESWIPE SAME DIRECTION</td>\n",
       "      <td>DIVIDED - W/MEDIAN (NOT RAISED)</td>\n",
       "      <td>STRAIGHT AND LEVEL</td>\n",
       "      <td>DRY</td>\n",
       "      <td>...</td>\n",
       "      <td>W</td>\n",
       "      <td>STRAIGHT AHEAD</td>\n",
       "      <td>FRONT-RIGHT</td>\n",
       "      <td>M</td>\n",
       "      <td>37.000000</td>\n",
       "      <td>NONE</td>\n",
       "      <td>0.0</td>\n",
       "      <td>2020</td>\n",
       "      <td>4</td>\n",
       "      <td>13</td>\n",
       "    </tr>\n",
       "    <tr>\n",
       "      <th>5</th>\n",
       "      <td>2015-11-01 05:00:00</td>\n",
       "      <td>30.0</td>\n",
       "      <td>NO CONTROLS</td>\n",
       "      <td>NO CONTROLS</td>\n",
       "      <td>CLEAR</td>\n",
       "      <td>DARKNESS, LIGHTED ROAD</td>\n",
       "      <td>PARKED MOTOR VEHICLE</td>\n",
       "      <td>DIVIDED - W/MEDIAN (NOT RAISED)</td>\n",
       "      <td>STRAIGHT AND LEVEL</td>\n",
       "      <td>DRY</td>\n",
       "      <td>...</td>\n",
       "      <td>E</td>\n",
       "      <td>BACKING</td>\n",
       "      <td>REAR</td>\n",
       "      <td>X</td>\n",
       "      <td>38.606234</td>\n",
       "      <td>NONE</td>\n",
       "      <td>0.0</td>\n",
       "      <td>2015</td>\n",
       "      <td>11</td>\n",
       "      <td>1</td>\n",
       "    </tr>\n",
       "    <tr>\n",
       "      <th>7</th>\n",
       "      <td>2015-11-01 08:00:00</td>\n",
       "      <td>35.0</td>\n",
       "      <td>NO CONTROLS</td>\n",
       "      <td>NO CONTROLS</td>\n",
       "      <td>UNKNOWN</td>\n",
       "      <td>UNKNOWN</td>\n",
       "      <td>PARKED MOTOR VEHICLE</td>\n",
       "      <td>NOT DIVIDED</td>\n",
       "      <td>STRAIGHT AND LEVEL</td>\n",
       "      <td>UNKNOWN</td>\n",
       "      <td>...</td>\n",
       "      <td>N</td>\n",
       "      <td>PARKED</td>\n",
       "      <td>FRONT-LEFT</td>\n",
       "      <td>X</td>\n",
       "      <td>38.606234</td>\n",
       "      <td>UNKNOWN</td>\n",
       "      <td>0.0</td>\n",
       "      <td>2015</td>\n",
       "      <td>11</td>\n",
       "      <td>1</td>\n",
       "    </tr>\n",
       "    <tr>\n",
       "      <th>9</th>\n",
       "      <td>2015-11-01 10:15:00</td>\n",
       "      <td>10.0</td>\n",
       "      <td>NO CONTROLS</td>\n",
       "      <td>NO CONTROLS</td>\n",
       "      <td>CLEAR</td>\n",
       "      <td>DAYLIGHT</td>\n",
       "      <td>PARKED MOTOR VEHICLE</td>\n",
       "      <td>PARKING LOT</td>\n",
       "      <td>STRAIGHT AND LEVEL</td>\n",
       "      <td>DRY</td>\n",
       "      <td>...</td>\n",
       "      <td>UNKNOWN</td>\n",
       "      <td>UNKNOWN/NA</td>\n",
       "      <td>UNKNOWN</td>\n",
       "      <td>X</td>\n",
       "      <td>38.606234</td>\n",
       "      <td>UNKNOWN</td>\n",
       "      <td>0.0</td>\n",
       "      <td>2015</td>\n",
       "      <td>11</td>\n",
       "      <td>1</td>\n",
       "    </tr>\n",
       "    <tr>\n",
       "      <th>...</th>\n",
       "      <td>...</td>\n",
       "      <td>...</td>\n",
       "      <td>...</td>\n",
       "      <td>...</td>\n",
       "      <td>...</td>\n",
       "      <td>...</td>\n",
       "      <td>...</td>\n",
       "      <td>...</td>\n",
       "      <td>...</td>\n",
       "      <td>...</td>\n",
       "      <td>...</td>\n",
       "      <td>...</td>\n",
       "      <td>...</td>\n",
       "      <td>...</td>\n",
       "      <td>...</td>\n",
       "      <td>...</td>\n",
       "      <td>...</td>\n",
       "      <td>...</td>\n",
       "      <td>...</td>\n",
       "      <td>...</td>\n",
       "      <td>...</td>\n",
       "    </tr>\n",
       "    <tr>\n",
       "      <th>3135541</th>\n",
       "      <td>2022-12-11 23:00:00</td>\n",
       "      <td>30.0</td>\n",
       "      <td>TRAFFIC SIGNAL</td>\n",
       "      <td>FUNCTIONING PROPERLY</td>\n",
       "      <td>CLEAR</td>\n",
       "      <td>DARKNESS, LIGHTED ROAD</td>\n",
       "      <td>SIDESWIPE SAME DIRECTION</td>\n",
       "      <td>NOT DIVIDED</td>\n",
       "      <td>STRAIGHT AND LEVEL</td>\n",
       "      <td>DRY</td>\n",
       "      <td>...</td>\n",
       "      <td>N</td>\n",
       "      <td>MERGING</td>\n",
       "      <td>UNKNOWN</td>\n",
       "      <td>F</td>\n",
       "      <td>38.606234</td>\n",
       "      <td>NONE</td>\n",
       "      <td>0.0</td>\n",
       "      <td>2022</td>\n",
       "      <td>12</td>\n",
       "      <td>11</td>\n",
       "    </tr>\n",
       "    <tr>\n",
       "      <th>3135545</th>\n",
       "      <td>2022-12-11 13:30:00</td>\n",
       "      <td>30.0</td>\n",
       "      <td>NO CONTROLS</td>\n",
       "      <td>NO CONTROLS</td>\n",
       "      <td>UNKNOWN</td>\n",
       "      <td>UNKNOWN</td>\n",
       "      <td>REAR END</td>\n",
       "      <td>NOT DIVIDED</td>\n",
       "      <td>STRAIGHT AND LEVEL</td>\n",
       "      <td>UNKNOWN</td>\n",
       "      <td>...</td>\n",
       "      <td>S</td>\n",
       "      <td>STRAIGHT AHEAD</td>\n",
       "      <td>OTHER</td>\n",
       "      <td>X</td>\n",
       "      <td>38.606234</td>\n",
       "      <td>UNKNOWN</td>\n",
       "      <td>0.0</td>\n",
       "      <td>2022</td>\n",
       "      <td>12</td>\n",
       "      <td>11</td>\n",
       "    </tr>\n",
       "    <tr>\n",
       "      <th>3135551</th>\n",
       "      <td>2022-12-11 14:30:00</td>\n",
       "      <td>30.0</td>\n",
       "      <td>NO CONTROLS</td>\n",
       "      <td>NO CONTROLS</td>\n",
       "      <td>UNKNOWN</td>\n",
       "      <td>UNKNOWN</td>\n",
       "      <td>SIDESWIPE SAME DIRECTION</td>\n",
       "      <td>NOT DIVIDED</td>\n",
       "      <td>STRAIGHT AND LEVEL</td>\n",
       "      <td>UNKNOWN</td>\n",
       "      <td>...</td>\n",
       "      <td>S</td>\n",
       "      <td>PASSING/OVERTAKING</td>\n",
       "      <td>UNKNOWN</td>\n",
       "      <td>F</td>\n",
       "      <td>23.000000</td>\n",
       "      <td>NONE</td>\n",
       "      <td>0.0</td>\n",
       "      <td>2022</td>\n",
       "      <td>12</td>\n",
       "      <td>11</td>\n",
       "    </tr>\n",
       "    <tr>\n",
       "      <th>3135555</th>\n",
       "      <td>2022-12-11 19:00:00</td>\n",
       "      <td>25.0</td>\n",
       "      <td>NO CONTROLS</td>\n",
       "      <td>NO CONTROLS</td>\n",
       "      <td>UNKNOWN</td>\n",
       "      <td>UNKNOWN</td>\n",
       "      <td>SIDESWIPE SAME DIRECTION</td>\n",
       "      <td>ONE-WAY</td>\n",
       "      <td>STRAIGHT AND LEVEL</td>\n",
       "      <td>UNKNOWN</td>\n",
       "      <td>...</td>\n",
       "      <td>N</td>\n",
       "      <td>BACKING</td>\n",
       "      <td>FRONT-RIGHT</td>\n",
       "      <td>X</td>\n",
       "      <td>38.606234</td>\n",
       "      <td>NONE</td>\n",
       "      <td>0.0</td>\n",
       "      <td>2022</td>\n",
       "      <td>12</td>\n",
       "      <td>11</td>\n",
       "    </tr>\n",
       "    <tr>\n",
       "      <th>3135559</th>\n",
       "      <td>2022-12-11 04:30:00</td>\n",
       "      <td>10.0</td>\n",
       "      <td>NO CONTROLS</td>\n",
       "      <td>NO CONTROLS</td>\n",
       "      <td>UNKNOWN</td>\n",
       "      <td>DARKNESS</td>\n",
       "      <td>FIXED OBJECT</td>\n",
       "      <td>ALLEY</td>\n",
       "      <td>STRAIGHT AND LEVEL</td>\n",
       "      <td>UNKNOWN</td>\n",
       "      <td>...</td>\n",
       "      <td>N</td>\n",
       "      <td>BACKING</td>\n",
       "      <td>REAR</td>\n",
       "      <td>X</td>\n",
       "      <td>38.606234</td>\n",
       "      <td>NONE</td>\n",
       "      <td>0.0</td>\n",
       "      <td>2022</td>\n",
       "      <td>12</td>\n",
       "      <td>11</td>\n",
       "    </tr>\n",
       "  </tbody>\n",
       "</table>\n",
       "<p>656583 rows × 33 columns</p>\n",
       "</div>"
      ],
      "text/plain": [
       "               CRASH_DATE_x  POSTED_SPEED_LIMIT   TRAFFIC_CONTROL_DEVICE  \\\n",
       "0       2019-09-28 03:30:00                30.0              NO CONTROLS   \n",
       "3       2020-04-13 22:50:00                30.0  FLASHING CONTROL SIGNAL   \n",
       "5       2015-11-01 05:00:00                30.0              NO CONTROLS   \n",
       "7       2015-11-01 08:00:00                35.0              NO CONTROLS   \n",
       "9       2015-11-01 10:15:00                10.0              NO CONTROLS   \n",
       "...                     ...                 ...                      ...   \n",
       "3135541 2022-12-11 23:00:00                30.0           TRAFFIC SIGNAL   \n",
       "3135545 2022-12-11 13:30:00                30.0              NO CONTROLS   \n",
       "3135551 2022-12-11 14:30:00                30.0              NO CONTROLS   \n",
       "3135555 2022-12-11 19:00:00                25.0              NO CONTROLS   \n",
       "3135559 2022-12-11 04:30:00                10.0              NO CONTROLS   \n",
       "\n",
       "             DEVICE_CONDITION WEATHER_CONDITION      LIGHTING_CONDITION  \\\n",
       "0                 NO CONTROLS              RAIN                DARKNESS   \n",
       "3        FUNCTIONING PROPERLY             CLEAR  DARKNESS, LIGHTED ROAD   \n",
       "5                 NO CONTROLS             CLEAR  DARKNESS, LIGHTED ROAD   \n",
       "7                 NO CONTROLS           UNKNOWN                 UNKNOWN   \n",
       "9                 NO CONTROLS             CLEAR                DAYLIGHT   \n",
       "...                       ...               ...                     ...   \n",
       "3135541  FUNCTIONING PROPERLY             CLEAR  DARKNESS, LIGHTED ROAD   \n",
       "3135545           NO CONTROLS           UNKNOWN                 UNKNOWN   \n",
       "3135551           NO CONTROLS           UNKNOWN                 UNKNOWN   \n",
       "3135555           NO CONTROLS           UNKNOWN                 UNKNOWN   \n",
       "3135559           NO CONTROLS           UNKNOWN                DARKNESS   \n",
       "\n",
       "                 FIRST_CRASH_TYPE                  TRAFFICWAY_TYPE  \\\n",
       "0            PARKED MOTOR VEHICLE                      NOT DIVIDED   \n",
       "3        SIDESWIPE SAME DIRECTION  DIVIDED - W/MEDIAN (NOT RAISED)   \n",
       "5            PARKED MOTOR VEHICLE  DIVIDED - W/MEDIAN (NOT RAISED)   \n",
       "7            PARKED MOTOR VEHICLE                      NOT DIVIDED   \n",
       "9            PARKED MOTOR VEHICLE                      PARKING LOT   \n",
       "...                           ...                              ...   \n",
       "3135541  SIDESWIPE SAME DIRECTION                      NOT DIVIDED   \n",
       "3135545                  REAR END                      NOT DIVIDED   \n",
       "3135551  SIDESWIPE SAME DIRECTION                      NOT DIVIDED   \n",
       "3135555  SIDESWIPE SAME DIRECTION                          ONE-WAY   \n",
       "3135559              FIXED OBJECT                            ALLEY   \n",
       "\n",
       "                  ALIGNMENT ROADWAY_SURFACE_COND  ... TRAVEL_DIRECTION  \\\n",
       "0        STRAIGHT AND LEVEL                  WET  ...                N   \n",
       "3        STRAIGHT AND LEVEL                  DRY  ...                W   \n",
       "5        STRAIGHT AND LEVEL                  DRY  ...                E   \n",
       "7        STRAIGHT AND LEVEL              UNKNOWN  ...                N   \n",
       "9        STRAIGHT AND LEVEL                  DRY  ...          UNKNOWN   \n",
       "...                     ...                  ...  ...              ...   \n",
       "3135541  STRAIGHT AND LEVEL                  DRY  ...                N   \n",
       "3135545  STRAIGHT AND LEVEL              UNKNOWN  ...                S   \n",
       "3135551  STRAIGHT AND LEVEL              UNKNOWN  ...                S   \n",
       "3135555  STRAIGHT AND LEVEL              UNKNOWN  ...                N   \n",
       "3135559  STRAIGHT AND LEVEL              UNKNOWN  ...                N   \n",
       "\n",
       "                   MANEUVER FIRST_CONTACT_POINT SEX        AGE EJECTION  \\\n",
       "0            STRAIGHT AHEAD               FRONT   M  25.000000     NONE   \n",
       "3            STRAIGHT AHEAD         FRONT-RIGHT   M  37.000000     NONE   \n",
       "5                   BACKING                REAR   X  38.606234     NONE   \n",
       "7                    PARKED          FRONT-LEFT   X  38.606234  UNKNOWN   \n",
       "9                UNKNOWN/NA             UNKNOWN   X  38.606234  UNKNOWN   \n",
       "...                     ...                 ...  ..        ...      ...   \n",
       "3135541             MERGING             UNKNOWN   F  38.606234     NONE   \n",
       "3135545      STRAIGHT AHEAD               OTHER   X  38.606234  UNKNOWN   \n",
       "3135551  PASSING/OVERTAKING             UNKNOWN   F  23.000000     NONE   \n",
       "3135555             BACKING         FRONT-RIGHT   X  38.606234     NONE   \n",
       "3135559             BACKING                REAR   X  38.606234     NONE   \n",
       "\n",
       "         INJURY_CLASSIFICATION  year month day  \n",
       "0                          0.0  2019     9  28  \n",
       "3                          0.0  2020     4  13  \n",
       "5                          0.0  2015    11   1  \n",
       "7                          0.0  2015    11   1  \n",
       "9                          0.0  2015    11   1  \n",
       "...                        ...   ...   ...  ..  \n",
       "3135541                    0.0  2022    12  11  \n",
       "3135545                    0.0  2022    12  11  \n",
       "3135551                    0.0  2022    12  11  \n",
       "3135555                    0.0  2022    12  11  \n",
       "3135559                    0.0  2022    12  11  \n",
       "\n",
       "[656583 rows x 33 columns]"
      ]
     },
     "execution_count": 20,
     "metadata": {},
     "output_type": "execute_result"
    }
   ],
   "source": [
    "df_chi"
   ]
  },
  {
   "cell_type": "code",
   "execution_count": 21,
   "id": "9166d088",
   "metadata": {},
   "outputs": [
    {
     "data": {
      "text/plain": [
       "NO DEFECTS           537573\n",
       "UNKNOWN              106402\n",
       "RUT, HOLES             4697\n",
       "OTHER                  3477\n",
       "WORN SURFACE           2674\n",
       "SHOULDER DEFECT        1289\n",
       "DEBRIS ON ROADWAY       471\n",
       "Name: ROAD_DEFECT, dtype: int64"
      ]
     },
     "execution_count": 21,
     "metadata": {},
     "output_type": "execute_result"
    }
   ],
   "source": [
    "df_chi.ROAD_DEFECT.value_counts()"
   ]
  },
  {
   "cell_type": "code",
   "execution_count": 22,
   "id": "9a966c2a",
   "metadata": {},
   "outputs": [],
   "source": [
    "DEFECT_dict = {'NO DEFECTS' : 0, 'UNKNOWN' : 0,\n",
    "              'OTHER' : 1, 'WORN SURFACE' : 2 ,\n",
    "              'SHOULDER DEFECT' : 2,'RUT, HOLES' : 3, 'DEBRIS ON ROADWAY' : 3,}"
   ]
  },
  {
   "cell_type": "code",
   "execution_count": 23,
   "id": "77be7970",
   "metadata": {},
   "outputs": [],
   "source": [
    "df_chi['ROAD_DEFECT'] = df_chi['ROAD_DEFECT'].map(DEFECT_dict)"
   ]
  },
  {
   "cell_type": "code",
   "execution_count": 24,
   "id": "dea7d0eb",
   "metadata": {},
   "outputs": [
    {
     "data": {
      "text/plain": [
       "DRY                489275\n",
       "WET                 86480\n",
       "UNKNOWN             50018\n",
       "SNOW OR SLUSH       24242\n",
       "ICE                  4748\n",
       "OTHER                1574\n",
       "SAND, MUD, DIRT       246\n",
       "Name: ROADWAY_SURFACE_COND, dtype: int64"
      ]
     },
     "execution_count": 24,
     "metadata": {},
     "output_type": "execute_result"
    }
   ],
   "source": [
    "df_chi.ROADWAY_SURFACE_COND.value_counts()"
   ]
  },
  {
   "cell_type": "code",
   "execution_count": 25,
   "id": "9f961385",
   "metadata": {},
   "outputs": [],
   "source": [
    "SURFAC_dict = {'DRY' : 0, 'UNKNOWN' : 0,\n",
    "              'WET' : 1, 'SAND, MUD, DIRT ' : 2 ,'OTHER' : 2,\n",
    "              'SNOW OR SLUSH' : 3,'ICE ' : 4}"
   ]
  },
  {
   "cell_type": "code",
   "execution_count": 26,
   "id": "fc8170fa",
   "metadata": {},
   "outputs": [],
   "source": [
    "df_chi['ROADWAY_SURFACE_COND'] = df_chi['ROADWAY_SURFACE_COND'].map(SURFAC_dict)"
   ]
  },
  {
   "cell_type": "code",
   "execution_count": 27,
   "id": "48fd3115",
   "metadata": {},
   "outputs": [
    {
     "data": {
      "text/plain": [
       "STRAIGHT AND LEVEL       640684\n",
       "STRAIGHT ON GRADE          8299\n",
       "CURVE, LEVEL               4684\n",
       "STRAIGHT ON HILLCREST      1760\n",
       "CURVE ON GRADE              865\n",
       "CURVE ON HILLCREST          291\n",
       "Name: ALIGNMENT, dtype: int64"
      ]
     },
     "execution_count": 27,
     "metadata": {},
     "output_type": "execute_result"
    }
   ],
   "source": [
    "df_chi.ALIGNMENT.value_counts()"
   ]
  },
  {
   "cell_type": "code",
   "execution_count": 28,
   "id": "085ffc26",
   "metadata": {},
   "outputs": [],
   "source": [
    "ALIGNMENT_dict = {'STRAIGHT AND LEVEL' : 0, 'STRAIGHT ON GRADE ' : 1,\n",
    "              'CURVE, LEVEL ' : 2, 'STRAIGHT ON HILLCREST' : 2 ,'CURVE ON GRADE' : 3,\n",
    "              'CURVE ON HILLCREST' : 3}"
   ]
  },
  {
   "cell_type": "code",
   "execution_count": 29,
   "id": "cb0913a1",
   "metadata": {},
   "outputs": [],
   "source": [
    "df_chi['ALIGNMENT'] = df_chi['ALIGNMENT'].map(ALIGNMENT_dict)"
   ]
  },
  {
   "cell_type": "code",
   "execution_count": 30,
   "id": "638d921f",
   "metadata": {},
   "outputs": [
    {
     "data": {
      "text/plain": [
       "CLEAR                       519137\n",
       "RAIN                         56566\n",
       "UNKNOWN                      32624\n",
       "SNOW                         23804\n",
       "CLOUDY/OVERCAST              19136\n",
       "OTHER                         2040\n",
       "FREEZING RAIN/DRIZZLE         1076\n",
       "FOG/SMOKE/HAZE                 937\n",
       "SLEET/HAIL                     837\n",
       "BLOWING SNOW                   316\n",
       "SEVERE CROSS WIND GATE         106\n",
       "BLOWING SAND, SOIL, DIRT         4\n",
       "Name: WEATHER_CONDITION, dtype: int64"
      ]
     },
     "execution_count": 30,
     "metadata": {},
     "output_type": "execute_result"
    }
   ],
   "source": [
    "df_chi.WEATHER_CONDITION.value_counts()"
   ]
  },
  {
   "cell_type": "code",
   "execution_count": 31,
   "id": "1117ab4e",
   "metadata": {},
   "outputs": [],
   "source": [
    "WEATHER_dict = {'CLEAR' : 0, 'UNKNOWN' : 0 ,  'RAIN' : 1,\n",
    "                'CLOUDY/OVERCAST' : 1, 'FREEZING RAIN/DRIZZLE ' : 2, 'OTHER' : 2 ,\n",
    "                'FOG/SMOKE/HAZE' : 3, 'SNOW' : 4,  'BLOWING SNOW' : 4, 'SLEET/HAIL' : 4, \n",
    "                'SEVERE CROSS WIND GATE' : 5, 'BLOWING SAND, SOIL, DIRT' : 5}"
   ]
  },
  {
   "cell_type": "code",
   "execution_count": 32,
   "id": "32ccb3bb",
   "metadata": {},
   "outputs": [],
   "source": [
    "df_chi['WEATHER_CONDITION'] = df_chi['WEATHER_CONDITION'].map(WEATHER_dict)"
   ]
  },
  {
   "cell_type": "code",
   "execution_count": 33,
   "id": "2d1c1d65",
   "metadata": {},
   "outputs": [
    {
     "data": {
      "text/plain": [
       "DAYLIGHT                  423992\n",
       "DARKNESS, LIGHTED ROAD    143754\n",
       "DARKNESS                   31423\n",
       "UNKNOWN                    27169\n",
       "DUSK                       19291\n",
       "DAWN                       10954\n",
       "Name: LIGHTING_CONDITION, dtype: int64"
      ]
     },
     "execution_count": 33,
     "metadata": {},
     "output_type": "execute_result"
    }
   ],
   "source": [
    "df_chi.LIGHTING_CONDITION.value_counts()"
   ]
  },
  {
   "cell_type": "code",
   "execution_count": 34,
   "id": "69ba4c39",
   "metadata": {},
   "outputs": [],
   "source": [
    "LIGHTING_dict = {'DAYLIGHT' : 0, 'DARKNESS, LIGHTED ROAD' : 1 ,  'DARKNESS' : 3,\n",
    "                'UNKNOWN' : 0, 'DUSK ' : 2, 'DAWN' : 2}"
   ]
  },
  {
   "cell_type": "code",
   "execution_count": 35,
   "id": "bedb1095",
   "metadata": {},
   "outputs": [],
   "source": [
    "df_chi['LIGHTING_CONDITION'] = df_chi['LIGHTING_CONDITION'].map(LIGHTING_dict)"
   ]
  },
  {
   "cell_type": "code",
   "execution_count": 36,
   "id": "7749dd7d",
   "metadata": {},
   "outputs": [],
   "source": [
    "df_chi = df_chi.drop(['MODEL', 'MAKE', 'CRASH_DATE_x', 'VEHICLE_TYPE', 'VEHICLE_USE', 'DAMAGE', 'CRASH_TYPE'], axis=1)"
   ]
  },
  {
   "cell_type": "code",
   "execution_count": 37,
   "id": "3ae819e7",
   "metadata": {},
   "outputs": [],
   "source": [
    "df_chi = df_chi.dropna()"
   ]
  },
  {
   "cell_type": "code",
   "execution_count": 38,
   "id": "8a359a37",
   "metadata": {},
   "outputs": [
    {
     "data": {
      "image/png": "[encoded data removed]",
      "text/plain": [
       "<Figure size 3600x1440 with 1 Axes>"
      ]
     },
     "metadata": {
      "needs_background": "light"
     },
     "output_type": "display_data"
    }
   ],
   "source": [
    "# vizualise columns & target \n",
    "\n",
    "plt.figure(figsize=(50,20))\n",
    "\n",
    "\n",
    "\n",
    "sns.barplot(x=\"LIGHTING_CONDITION\",y=\"INJURY_CLASSIFICATION\",data=df_chi)\n",
    "plt.savefig(\"pplot.jpg\")\n",
    "\n",
    "plt.title('Crashes in Chicago', y=1.01, fontsize=20)\n",
    "plt.xlabel('LIGHTING CONDITION', fontsize=40, labelpad=40)\n",
    "plt.ylabel('NJURY CLASSIFICATION', fontsize=40, labelpad=40)\n",
    "plt.show();"
   ]
  },
  {
   "cell_type": "code",
   "execution_count": 39,
   "id": "ad0592bf",
   "metadata": {},
   "outputs": [
    {
     "data": {
      "image/png": "[encoded data removed]",
      "text/plain": [
       "<Figure size 3600x1440 with 1 Axes>"
      ]
     },
     "metadata": {
      "needs_background": "light"
     },
     "output_type": "display_data"
    }
   ],
   "source": [
    "plt.figure(figsize=(50,20))\n",
    "\n",
    "\n",
    "\n",
    "sns.barplot(x=\"ROADWAY_SURFACE_COND\",y=\"INJURY_CLASSIFICATION\",data=df_chi)\n",
    "plt.savefig(\"pplot.jpg\")\n",
    "\n",
    "plt.title('Crashes in Chicago', y=1.01, fontsize=20)\n",
    "plt.xlabel('ROADWAY SURFACE COND', fontsize=40, labelpad=40)\n",
    "plt.ylabel('NJURY CLASSIFICATION', fontsize=40, labelpad=40)\n",
    "plt.show();"
   ]
  },
  {
   "cell_type": "code",
   "execution_count": 40,
   "id": "60cd1bce",
   "metadata": {},
   "outputs": [
    {
     "data": {
      "image/png": "[encoded data removed]",
      "text/plain": [
       "<Figure size 1080x1080 with 1 Axes>"
      ]
     },
     "metadata": {
      "needs_background": "light"
     },
     "output_type": "display_data"
    }
   ],
   "source": [
    "plt.figure(figsize=(15, 15))\n",
    "ax = sns.countplot(data=df_chi,  y='PRIM_CONTRIBUTORY_CAUSE', order = df_chi['PRIM_CONTRIBUTORY_CAUSE'].value_counts().iloc[:11].index)\n",
    "total = len(df_chi['PRIM_CONTRIBUTORY_CAUSE'])\n",
    "for p in ax.patches:\n",
    "        percentage = '{:.1f}%'.format(100 * p.get_width()/total)\n",
    "        x = p.get_x() + p.get_width() + 0.02\n",
    "        y = p.get_y() + p.get_height()/2\n",
    "        ax.annotate(percentage, (x, y))\n",
    "\n",
    "plt.title('Top Primary Contributing Cause of Reported Crashes in Chicago', y=1.01, fontsize=14)\n",
    "plt.xlabel('Number of Crashes', fontsize=15, labelpad=15)\n",
    "plt.ylabel('Primary Contributing Cause', fontsize=15, labelpad=15)\n",
    "plt.show();"
   ]
  },
  {
   "cell_type": "code",
   "execution_count": null,
   "id": "a47920d0",
   "metadata": {},
   "outputs": [],
   "source": []
  },
  {
   "cell_type": "code",
   "execution_count": 41,
   "id": "3b429484",
   "metadata": {},
   "outputs": [
    {
     "data": {
      "text/plain": [
       "Index(['POSTED_SPEED_LIMIT', 'TRAFFIC_CONTROL_DEVICE', 'DEVICE_CONDITION',\n",
       "       'WEATHER_CONDITION', 'LIGHTING_CONDITION', 'FIRST_CRASH_TYPE',\n",
       "       'TRAFFICWAY_TYPE', 'ALIGNMENT', 'ROADWAY_SURFACE_COND', 'ROAD_DEFECT',\n",
       "       'PRIM_CONTRIBUTORY_CAUSE', 'SEC_CONTRIBUTORY_CAUSE', 'STREET_DIRECTION',\n",
       "       'BEAT_OF_OCCURRENCE', 'LOCATION', 'VEHICLE_YEAR', 'TRAVEL_DIRECTION',\n",
       "       'MANEUVER', 'FIRST_CONTACT_POINT', 'SEX', 'AGE', 'EJECTION',\n",
       "       'INJURY_CLASSIFICATION', 'year', 'month', 'day'],\n",
       "      dtype='object')"
      ]
     },
     "execution_count": 41,
     "metadata": {},
     "output_type": "execute_result"
    }
   ],
   "source": [
    "df_chi.columns"
   ]
  },
  {
   "cell_type": "code",
   "execution_count": 42,
   "id": "0928b9bc",
   "metadata": {},
   "outputs": [],
   "source": [
    "cols = ['POSTED_SPEED_LIMIT', 'TRAFFIC_CONTROL_DEVICE', 'DEVICE_CONDITION',\n",
    "       'WEATHER_CONDITION', 'LIGHTING_CONDITION', 'FIRST_CRASH_TYPE',\n",
    "       'TRAFFICWAY_TYPE', 'ALIGNMENT', 'ROADWAY_SURFACE_COND', 'ROAD_DEFECT',\n",
    "       'PRIM_CONTRIBUTORY_CAUSE', 'SEC_CONTRIBUTORY_CAUSE', \n",
    "       'BEAT_OF_OCCURRENCE', \n",
    "       'MANEUVER', 'FIRST_CONTACT_POINT', 'SEX', 'AGE', 'EJECTION', 'year', 'month', 'day']"
   ]
  },
  {
   "cell_type": "code",
   "execution_count": 43,
   "id": "30d118eb",
   "metadata": {},
   "outputs": [
    {
     "name": "stdout",
     "output_type": "stream",
     "text": [
      "NO CONTROLS                 354608\n",
      "TRAFFIC SIGNAL              172395\n",
      "STOP SIGN/FLASHER            61638\n",
      "UNKNOWN                      22029\n",
      "OTHER                         3749\n",
      "LANE USE MARKING              1033\n",
      "YIELD                          850\n",
      "OTHER REG. SIGN                621\n",
      "OTHER WARNING SIGN             423\n",
      "RAILROAD CROSSING GATE         376\n",
      "PEDESTRIAN CROSSING SIGN       312\n",
      "SCHOOL ZONE                    232\n",
      "POLICE/FLAGMAN                 210\n",
      "DELINEATORS                    204\n",
      "FLASHING CONTROL SIGNAL        200\n",
      "OTHER RAILROAD CROSSING        133\n",
      "RR CROSSING SIGN                75\n",
      "NO PASSING                      30\n",
      "BICYCLE CROSSING SIGN           16\n",
      "Name: TRAFFIC_CONTROL_DEVICE, dtype: int64\n",
      "NO CONTROLS                 358957\n",
      "FUNCTIONING PROPERLY        213522\n",
      "UNKNOWN                      36874\n",
      "OTHER                         4637\n",
      "FUNCTIONING IMPROPERLY        2966\n",
      "NOT FUNCTIONING               1880\n",
      "WORN REFLECTIVE MATERIAL       229\n",
      "MISSING                         69\n",
      "Name: DEVICE_CONDITION, dtype: int64\n",
      "PARKED MOTOR VEHICLE            148630\n",
      "REAR END                        143933\n",
      "SIDESWIPE SAME DIRECTION         95375\n",
      "TURNING                          89342\n",
      "ANGLE                            68538\n",
      "FIXED OBJECT                     24830\n",
      "PEDESTRIAN                       11295\n",
      "SIDESWIPE OPPOSITE DIRECTION      8949\n",
      "PEDALCYCLIST                      6202\n",
      "HEAD ON                           5278\n",
      "REAR TO FRONT                     5230\n",
      "OTHER OBJECT                      4994\n",
      "REAR TO SIDE                      3176\n",
      "OTHER NONCOLLISION                1505\n",
      "REAR TO REAR                      1157\n",
      "ANIMAL                             403\n",
      "OVERTURNED                         276\n",
      "TRAIN                               21\n",
      "Name: FIRST_CRASH_TYPE, dtype: int64\n",
      "NOT DIVIDED                        274988\n",
      "DIVIDED - W/MEDIAN (NOT RAISED)    104110\n",
      "ONE-WAY                             80522\n",
      "PARKING LOT                         42989\n",
      "DIVIDED - W/MEDIAN BARRIER          33751\n",
      "FOUR WAY                            31154\n",
      "OTHER                               16300\n",
      "ALLEY                                9861\n",
      "UNKNOWN                              7046\n",
      "T-INTERSECTION                       6408\n",
      "CENTER TURN LANE                     4579\n",
      "DRIVEWAY                             1835\n",
      "UNKNOWN INTERSECTION TYPE            1623\n",
      "RAMP                                 1471\n",
      "FIVE POINT, OR MORE                   698\n",
      "Y-INTERSECTION                        671\n",
      "TRAFFIC ROUTE                         561\n",
      "NOT REPORTED                          321\n",
      "ROUNDABOUT                            150\n",
      "L-INTERSECTION                         96\n",
      "Name: TRAFFICWAY_TYPE, dtype: int64\n",
      "PARKED MOTOR VEHICLE            148630\n",
      "REAR END                        143933\n",
      "SIDESWIPE SAME DIRECTION         95375\n",
      "TURNING                          89342\n",
      "ANGLE                            68538\n",
      "FIXED OBJECT                     24830\n",
      "PEDESTRIAN                       11295\n",
      "SIDESWIPE OPPOSITE DIRECTION      8949\n",
      "PEDALCYCLIST                      6202\n",
      "HEAD ON                           5278\n",
      "REAR TO FRONT                     5230\n",
      "OTHER OBJECT                      4994\n",
      "REAR TO SIDE                      3176\n",
      "OTHER NONCOLLISION                1505\n",
      "REAR TO REAR                      1157\n",
      "ANIMAL                             403\n",
      "OVERTURNED                         276\n",
      "TRAIN                               21\n",
      "Name: FIRST_CRASH_TYPE, dtype: int64\n",
      "UNABLE TO DETERMINE                                                                 240485\n",
      "FAILING TO YIELD RIGHT-OF-WAY                                                        68088\n",
      "FOLLOWING TOO CLOSELY                                                                63411\n",
      "NOT APPLICABLE                                                                       30967\n",
      "IMPROPER OVERTAKING/PASSING                                                          30391\n",
      "FAILING TO REDUCE SPEED TO AVOID CRASH                                               25917\n",
      "IMPROPER BACKING                                                                     25882\n",
      "IMPROPER LANE USAGE                                                                  22918\n",
      "IMPROPER TURNING/NO SIGNAL                                                           20834\n",
      "DRIVING SKILLS/KNOWLEDGE/EXPERIENCE                                                  19772\n",
      "DISREGARDING TRAFFIC SIGNALS                                                         11817\n",
      "WEATHER                                                                               7794\n",
      "OPERATING VEHICLE IN ERRATIC, RECKLESS, CARELESS, NEGLIGENT OR AGGRESSIVE MANNER      7719\n",
      "DISREGARDING STOP SIGN                                                                6947\n",
      "DISTRACTION - FROM INSIDE VEHICLE                                                     4392\n",
      "PHYSICAL CONDITION OF DRIVER                                                          3765\n",
      "EQUIPMENT - VEHICLE CONDITION                                                         3715\n",
      "VISION OBSCURED (SIGNS, TREE LIMBS, BUILDINGS, ETC.)                                  3404\n",
      "DRIVING ON WRONG SIDE/WRONG WAY                                                       3100\n",
      "UNDER THE INFLUENCE OF ALCOHOL/DRUGS (USE WHEN ARREST IS EFFECTED)                    3088\n",
      "DISTRACTION - FROM OUTSIDE VEHICLE                                                    2598\n",
      "EXCEEDING AUTHORIZED SPEED LIMIT                                                      1772\n",
      "EXCEEDING SAFE SPEED FOR CONDITIONS                                                   1372\n",
      "DISREGARDING OTHER TRAFFIC SIGNS                                                      1224\n",
      "ROAD ENGINEERING/SURFACE/MARKING DEFECTS                                              1214\n",
      "ROAD CONSTRUCTION/MAINTENANCE                                                         1184\n",
      "EVASIVE ACTION DUE TO ANIMAL, OBJECT, NONMOTORIST                                     1069\n",
      "CELL PHONE USE OTHER THAN TEXTING                                                      860\n",
      "DISREGARDING ROAD MARKINGS                                                             686\n",
      "HAD BEEN DRINKING (USE WHEN ARREST IS NOT MADE)                                        647\n",
      "ANIMAL                                                                                 481\n",
      "TURNING RIGHT ON RED                                                                   427\n",
      "DISTRACTION - OTHER ELECTRONIC DEVICE (NAVIGATION DEVICE, DVD PLAYER, ETC.)            291\n",
      "TEXTING                                                                                258\n",
      "RELATED TO BUS STOP                                                                    243\n",
      "DISREGARDING YIELD SIGN                                                                209\n",
      "PASSING STOPPED SCHOOL BUS                                                              74\n",
      "BICYCLE ADVANCING LEGALLY ON RED LIGHT                                                  53\n",
      "OBSTRUCTED CROSSWALKS                                                                   48\n",
      "MOTORCYCLE ADVANCING LEGALLY ON RED LIGHT                                               18\n",
      "Name: PRIM_CONTRIBUTORY_CAUSE, dtype: int64\n",
      "NOT APPLICABLE                                                                      251704\n",
      "UNABLE TO DETERMINE                                                                 226702\n",
      "FAILING TO REDUCE SPEED TO AVOID CRASH                                               23942\n",
      "FAILING TO YIELD RIGHT-OF-WAY                                                        18823\n",
      "DRIVING SKILLS/KNOWLEDGE/EXPERIENCE                                                  18753\n",
      "FOLLOWING TOO CLOSELY                                                                16697\n",
      "IMPROPER OVERTAKING/PASSING                                                           9339\n",
      "IMPROPER LANE USAGE                                                                   8812\n",
      "WEATHER                                                                               6360\n",
      "IMPROPER TURNING/NO SIGNAL                                                            6279\n",
      "IMPROPER BACKING                                                                      5202\n",
      "OPERATING VEHICLE IN ERRATIC, RECKLESS, CARELESS, NEGLIGENT OR AGGRESSIVE MANNER      3895\n",
      "DISREGARDING TRAFFIC SIGNALS                                                          2455\n",
      "VISION OBSCURED (SIGNS, TREE LIMBS, BUILDINGS, ETC.)                                  1932\n",
      "DISTRACTION - FROM INSIDE VEHICLE                                                     1926\n",
      "PHYSICAL CONDITION OF DRIVER                                                          1919\n",
      "DISREGARDING STOP SIGN                                                                1849\n",
      "EXCEEDING AUTHORIZED SPEED LIMIT                                                      1316\n",
      "DRIVING ON WRONG SIDE/WRONG WAY                                                       1210\n",
      "EXCEEDING SAFE SPEED FOR CONDITIONS                                                   1184\n",
      "EQUIPMENT - VEHICLE CONDITION                                                         1171\n",
      "UNDER THE INFLUENCE OF ALCOHOL/DRUGS (USE WHEN ARREST IS EFFECTED)                    1047\n",
      "DISTRACTION - FROM OUTSIDE VEHICLE                                                    1029\n",
      "HAD BEEN DRINKING (USE WHEN ARREST IS NOT MADE)                                        806\n",
      "ROAD CONSTRUCTION/MAINTENANCE                                                          676\n",
      "DISREGARDING ROAD MARKINGS                                                             605\n",
      "DISREGARDING OTHER TRAFFIC SIGNS                                                       591\n",
      "ROAD ENGINEERING/SURFACE/MARKING DEFECTS                                               489\n",
      "CELL PHONE USE OTHER THAN TEXTING                                                      477\n",
      "EVASIVE ACTION DUE TO ANIMAL, OBJECT, NONMOTORIST                                      324\n",
      "ANIMAL                                                                                 276\n",
      "RELATED TO BUS STOP                                                                    267\n",
      "TURNING RIGHT ON RED                                                                   222\n",
      "BICYCLE ADVANCING LEGALLY ON RED LIGHT                                                 193\n",
      "DISTRACTION - OTHER ELECTRONIC DEVICE (NAVIGATION DEVICE, DVD PLAYER, ETC.)            189\n",
      "DISREGARDING YIELD SIGN                                                                164\n",
      "TEXTING                                                                                113\n",
      "PASSING STOPPED SCHOOL BUS                                                              83\n",
      "OBSTRUCTED CROSSWALKS                                                                   60\n",
      "MOTORCYCLE ADVANCING LEGALLY ON RED LIGHT                                               53\n",
      "Name: SEC_CONTRIBUTORY_CAUSE, dtype: int64\n",
      "W    220849\n",
      "S    208155\n",
      "N    147357\n",
      "E     42773\n",
      "Name: STREET_DIRECTION, dtype: int64\n"
     ]
    },
    {
     "name": "stdout",
     "output_type": "stream",
     "text": [
      "POINT (-87.905309125103 41.976201139024)    926\n",
      "POINT (-87.585971992965 41.751460603167)    432\n",
      "POINT (-87.580147768689 41.791420282098)    388\n",
      "POINT (-87.585275565077 41.722257273006)    342\n",
      "POINT (-87.741384758605 41.754660124394)    295\n",
      "                                           ... \n",
      "POINT (-87.637989226454 41.672875004318)      1\n",
      "POINT (-87.689945885965 41.825670955704)      1\n",
      "POINT (-87.697786376302 41.92469368473)       1\n",
      "POINT (-87.715186441878 41.857247678806)      1\n",
      "POINT (-87.667885340172 41.962548556075)      1\n",
      "Name: LOCATION, Length: 251642, dtype: int64\n",
      "STRAIGHT AHEAD                        277494\n",
      "UNKNOWN/NA                             84949\n",
      "TURNING LEFT                           48479\n",
      "BACKING                                45720\n",
      "TURNING RIGHT                          26371\n",
      "PASSING/OVERTAKING                     26222\n",
      "CHANGING LANES                         21048\n",
      "SLOW/STOP IN TRAFFIC                   14915\n",
      "ENTERING TRAFFIC LANE FROM PARKING     12657\n",
      "OTHER                                  12296\n",
      "PARKED                                 10024\n",
      "MERGING                                 7012\n",
      "U-TURN                                  6228\n",
      "LEAVING TRAFFIC LANE TO PARK            4466\n",
      "ENTER FROM DRIVE/ALLEY                  4135\n",
      "AVOIDING VEHICLES/OBJECTS               4024\n",
      "SKIDDING/CONTROL LOSS                   3862\n",
      "STARTING IN TRAFFIC                     3751\n",
      "DRIVING WRONG WAY                       1577\n",
      "SLOW/STOP - LEFT TURN                    979\n",
      "SLOW/STOP - RIGHT TURN                   683\n",
      "NEGOTIATING A CURVE                      647\n",
      "PARKED IN TRAFFIC LANE                   498\n",
      "SLOW/STOP - LOAD/UNLOAD                  484\n",
      "TURNING ON RED                           372\n",
      "DIVERGING                                155\n",
      "DRIVERLESS                                56\n",
      "DISABLED                                  30\n",
      "Name: MANEUVER, dtype: int64\n",
      "FRONT                127723\n",
      "OTHER                107416\n",
      "UNKNOWN              103368\n",
      "FRONT-RIGHT           45347\n",
      "TOTAL (ALL AREAS)     41311\n",
      "FRONT-LEFT            38677\n",
      "SIDE-RIGHT            34050\n",
      "REAR-LEFT             30676\n",
      "REAR                  24984\n",
      "SIDE-LEFT             19716\n",
      "REAR-RIGHT            16842\n",
      "ROOF                  15835\n",
      "NONE                   7469\n",
      "UNDER CARRIAGE         5720\n",
      "Name: FIRST_CONTACT_POINT, dtype: int64\n",
      "M    314815\n",
      "F    194806\n",
      "X    109513\n",
      "Name: SEX, dtype: int64\n",
      "NONE                  557664\n",
      "UNKNOWN                59372\n",
      "TOTALLY EJECTED         1341\n",
      "TRAPPED/EXTRICATED       394\n",
      "PARTIALLY EJECTED        363\n",
      "Name: EJECTION, dtype: int64\n"
     ]
    }
   ],
   "source": [
    "collist= ['TRAFFIC_CONTROL_DEVICE','DEVICE_CONDITION', 'FIRST_CRASH_TYPE', 'TRAFFICWAY_TYPE',\n",
    "                                       'FIRST_CRASH_TYPE', 'PRIM_CONTRIBUTORY_CAUSE', 'SEC_CONTRIBUTORY_CAUSE', 'STREET_DIRECTION',\n",
    "                                        'LOCATION', 'MANEUVER', 'FIRST_CONTACT_POINT', 'SEX', 'EJECTION']\n",
    "for x in collist:\n",
    "    print(df_chi[x].value_counts())"
   ]
  },
  {
   "cell_type": "code",
   "execution_count": 44,
   "id": "855f4a43",
   "metadata": {},
   "outputs": [
    {
     "data": {
      "text/plain": [
       "0.0    599151\n",
       "1.0     19983\n",
       "Name: INJURY_CLASSIFICATION, dtype: int64"
      ]
     },
     "execution_count": 44,
     "metadata": {},
     "output_type": "execute_result"
    }
   ],
   "source": [
    "df_chi['INJURY_CLASSIFICATION'].value_counts()"
   ]
  },
  {
   "cell_type": "code",
   "execution_count": 45,
   "id": "f7435d7a",
   "metadata": {},
   "outputs": [],
   "source": [
    "# train test split \n",
    "\n",
    "#df_sample = df_chi.sample(30000)\n",
    "\n",
    "##X= df_sample[cols]\n",
    "#y= df_sample['INJURY_CLASSIFICATION']\n",
    "\n",
    "\n",
    "X = df_chi[cols]\n",
    "y = df_chi['INJURY_CLASSIFICATION']\n",
    "\n",
    "X_train, X_test, y_train, y_test = train_test_split(X,y, test_size = .33 , random_state =42)\n"
   ]
  },
  {
   "cell_type": "code",
   "execution_count": 46,
   "id": "ec638338",
   "metadata": {},
   "outputs": [
    {
     "data": {
      "text/plain": [
       "POSTED_SPEED_LIMIT         0\n",
       "TRAFFIC_CONTROL_DEVICE     0\n",
       "DEVICE_CONDITION           0\n",
       "WEATHER_CONDITION          0\n",
       "LIGHTING_CONDITION         0\n",
       "FIRST_CRASH_TYPE           0\n",
       "TRAFFICWAY_TYPE            0\n",
       "ALIGNMENT                  0\n",
       "ROADWAY_SURFACE_COND       0\n",
       "ROAD_DEFECT                0\n",
       "PRIM_CONTRIBUTORY_CAUSE    0\n",
       "SEC_CONTRIBUTORY_CAUSE     0\n",
       "BEAT_OF_OCCURRENCE         0\n",
       "MANEUVER                   0\n",
       "FIRST_CONTACT_POINT        0\n",
       "SEX                        0\n",
       "AGE                        0\n",
       "EJECTION                   0\n",
       "year                       0\n",
       "month                      0\n",
       "day                        0\n",
       "dtype: int64"
      ]
     },
     "execution_count": 46,
     "metadata": {},
     "output_type": "execute_result"
    }
   ],
   "source": [
    "X_test.isna().sum()"
   ]
  },
  {
   "cell_type": "code",
   "execution_count": 47,
   "id": "1fecb19d",
   "metadata": {},
   "outputs": [
    {
     "data": {
      "text/plain": [
       "0.0    0.967724\n",
       "1.0    0.032276\n",
       "Name: INJURY_CLASSIFICATION, dtype: float64"
      ]
     },
     "execution_count": 47,
     "metadata": {},
     "output_type": "execute_result"
    }
   ],
   "source": [
    "y.value_counts(normalize = True)"
   ]
  },
  {
   "cell_type": "markdown",
   "id": "ca62065a",
   "metadata": {},
   "source": [
    "## make piplines to find best model"
   ]
  },
  {
   "cell_type": "code",
   "execution_count": 48,
   "id": "8d14b95d",
   "metadata": {},
   "outputs": [
    {
     "name": "stdout",
     "output_type": "stream",
     "text": [
      "CPU times: user 1.53 s, sys: 533 ms, total: 2.06 s\n",
      "Wall time: 2.06 s\n"
     ]
    },
    {
     "data": {
      "text/plain": [
       "Pipeline(steps=[('preprocess',\n",
       "                 ColumnTransformer(transformers=[('nominalpipe',\n",
       "                                                  Pipeline(steps=[('onehotenc',\n",
       "                                                                   OneHotEncoder(drop='first',\n",
       "                                                                                 handle_unknown='ignore',\n",
       "                                                                                 sparse=False)),\n",
       "                                                                  ('onehotnorm',\n",
       "                                                                   MaxAbsScaler())]),\n",
       "                                                  ['TRAFFIC_CONTROL_DEVICE',\n",
       "                                                   'DEVICE_CONDITION',\n",
       "                                                   'FIRST_CRASH_TYPE',\n",
       "                                                   'TRAFFICWAY_TYPE',\n",
       "                                                   'FIRST_CRASH_TYPE',\n",
       "                                                   'PRIM_CONTRIBUTORY_CAUSE',\n",
       "                                                   'SEC_CONTRIBUTORY_CAUSE',\n",
       "                                                   'MANEUVER',\n",
       "                                                   'FIRST_CONTACT_POINT', 'SEX',\n",
       "                                                   'EJECTION']),\n",
       "                                                 ('numpipe',\n",
       "                                                  Pipeline(steps=[('numnorm',\n",
       "                                                                   StandardScaler())]),\n",
       "                                                  Index(['POSTED_SPEED_LIMIT', 'WEATHER_CONDITION', 'LIGHTING_CONDITION',\n",
       "       'ALIGNMENT', 'ROADWAY_SURFACE_COND', 'ROAD_DEFECT',\n",
       "       'BEAT_OF_OCCURRENCE', 'AGE', 'year', 'month', 'day'],\n",
       "      dtype='object'))])),\n",
       "                ('knn', KNeighborsClassifier())])"
      ]
     },
     "execution_count": 48,
     "metadata": {},
     "output_type": "execute_result"
    }
   ],
   "source": [
    "\n",
    "\n",
    "%%time\n",
    "\n",
    "KN_pipeline = Pipeline([('numnorm', StandardScaler())])\n",
    "\n",
    "# ordinal_pipeline = Pipeline([\n",
    "#     ('ordimputer', SimpleImputer(strategy = 'most_frequent')),\n",
    "#     ('ordenc', OrdinalEncoder(categories = [])),\n",
    "#     ('ordnorm', StandardScaler())])\n",
    "\n",
    "\n",
    "nominal_pipeline = Pipeline([\n",
    "    ('onehotenc', OneHotEncoder(sparse = False, drop = 'first', handle_unknown='ignore')), \n",
    "    ('onehotnorm', MaxAbsScaler())])\n",
    "\n",
    "num_cols = X_train.select_dtypes(['int', 'float']).columns\n",
    "\n",
    "ct = ColumnTransformer(\n",
    "    [ (\"nominalpipe\", nominal_pipeline, ['TRAFFIC_CONTROL_DEVICE','DEVICE_CONDITION', 'FIRST_CRASH_TYPE', 'TRAFFICWAY_TYPE',\n",
    "                                       'FIRST_CRASH_TYPE', 'PRIM_CONTRIBUTORY_CAUSE', 'SEC_CONTRIBUTORY_CAUSE', \n",
    "                                         'MANEUVER', 'FIRST_CONTACT_POINT', 'SEX', 'EJECTION']),\n",
    "     (\"numpipe\", KN_pipeline, num_cols)])\n",
    "\n",
    "num_cols\n",
    "\n",
    "\n",
    "\n",
    "\n",
    "final_pipe = Pipeline([('preprocess', ct),\n",
    "                      ('knn',\n",
    "                       KNeighborsClassifier())])\n",
    "\n",
    "\n",
    "\n",
    "final_pipe.fit(X_train, y_train)\n",
    "\n",
    "\n",
    "\n"
   ]
  },
  {
   "cell_type": "code",
   "execution_count": 49,
   "id": "b5492fbf",
   "metadata": {
    "scrolled": true
   },
   "outputs": [
    {
     "name": "stdout",
     "output_type": "stream",
     "text": [
      "CPU times: user 1min 9s, sys: 1.2 s, total: 1min 11s\n",
      "Wall time: 1min 11s\n"
     ]
    },
    {
     "data": {
      "text/plain": [
       "Pipeline(steps=[('preprocess',\n",
       "                 ColumnTransformer(transformers=[('nominalpipe',\n",
       "                                                  Pipeline(steps=[('onehotimputer',\n",
       "                                                                   SimpleImputer(strategy='most_frequent')),\n",
       "                                                                  ('onehotenc',\n",
       "                                                                   OneHotEncoder(drop='first',\n",
       "                                                                                 handle_unknown='ignore',\n",
       "                                                                                 sparse=False)),\n",
       "                                                                  ('onehotnorm',\n",
       "                                                                   MaxAbsScaler())]),\n",
       "                                                  ['TRAFFIC_CONTROL_DEVICE',\n",
       "                                                   'DEVICE_CONDITION',\n",
       "                                                   'FIRST_CRASH_TYPE',\n",
       "                                                   'TRAFFICWAY_TYPE',\n",
       "                                                   'FIRST...\n",
       "                                                   'SEC_CONTRIBUTORY_CAUSE',\n",
       "                                                   'MANEUVER',\n",
       "                                                   'FIRST_CONTACT_POINT', 'SEX',\n",
       "                                                   'EJECTION']),\n",
       "                                                 ('numpipe',\n",
       "                                                  Pipeline(steps=[('numnorm',\n",
       "                                                                   StandardScaler())]),\n",
       "                                                  Index(['POSTED_SPEED_LIMIT', 'WEATHER_CONDITION', 'LIGHTING_CONDITION',\n",
       "       'ALIGNMENT', 'ROADWAY_SURFACE_COND', 'ROAD_DEFECT',\n",
       "       'BEAT_OF_OCCURRENCE', 'AGE', 'year', 'month', 'day'],\n",
       "      dtype='object'))])),\n",
       "                ('model', RandomForestClassifier())])"
      ]
     },
     "execution_count": 49,
     "metadata": {},
     "output_type": "execute_result"
    }
   ],
   "source": [
    "%%time\n",
    "\n",
    "forest_pipeline = Pipeline([('numnorm', StandardScaler())])\n",
    "\n",
    "# ordinal_pipeline = Pipeline([\n",
    "#     ('ordimputer', SimpleImputer(strategy = 'most_frequent')),\n",
    "#     ('ordenc', OrdinalEncoder(categories = [])),\n",
    "#     ('ordnorm', StandardScaler())])\n",
    "\n",
    "\n",
    "nominal_pipeline = Pipeline([\n",
    "    ('onehotimputer', SimpleImputer(strategy = 'most_frequent')),\n",
    "    ('onehotenc', OneHotEncoder(sparse = False, drop = 'first', handle_unknown='ignore')), \n",
    "    ('onehotnorm', MaxAbsScaler())])\n",
    "\n",
    "num_cols = X_train.select_dtypes(['int', 'float']).columns\n",
    "\n",
    "ct = ColumnTransformer(\n",
    "    [ (\"nominalpipe\", nominal_pipeline, ['TRAFFIC_CONTROL_DEVICE','DEVICE_CONDITION', 'FIRST_CRASH_TYPE', 'TRAFFICWAY_TYPE',\n",
    "                                       'FIRST_CRASH_TYPE', 'PRIM_CONTRIBUTORY_CAUSE', 'SEC_CONTRIBUTORY_CAUSE', \n",
    "                                         'MANEUVER', 'FIRST_CONTACT_POINT', 'SEX', 'EJECTION']),\n",
    "     (\"numpipe\", forest_pipeline, num_cols)])\n",
    "\n",
    "num_cols\n",
    "\n",
    "\n",
    "\n",
    "\n",
    "final_pipe = Pipeline([('preprocess', ct),\n",
    "                      ('model',\n",
    "                       RandomForestClassifier())])\n",
    "\n",
    "\n",
    "\n",
    "final_pipe.fit(X_train, y_train)\n",
    "\n",
    "\n"
   ]
  },
  {
   "cell_type": "code",
   "execution_count": 50,
   "id": "dad5e51e",
   "metadata": {},
   "outputs": [
    {
     "name": "stdout",
     "output_type": "stream",
     "text": [
      "0.9685240926999975\n"
     ]
    }
   ],
   "source": [
    "scores = final_pipe.score(X_test, y_test)\n",
    "print(scores)"
   ]
  },
  {
   "cell_type": "code",
   "execution_count": 106,
   "id": "7200ba55",
   "metadata": {},
   "outputs": [
    {
     "data": {
      "text/plain": [
       "array([[187799,     41],\n",
       "       [  6147,    109]])"
      ]
     },
     "execution_count": 106,
     "metadata": {},
     "output_type": "execute_result"
    }
   ],
   "source": [
    "preds = final_pipe.predict(X_test)\n",
    "confusion_matrix(y_test, preds)"
   ]
  },
  {
   "cell_type": "code",
   "execution_count": 88,
   "id": "30c90486",
   "metadata": {},
   "outputs": [
    {
     "name": "stdout",
     "output_type": "stream",
     "text": [
      "CPU times: user 27 s, sys: 2.38 s, total: 29.3 s\n",
      "Wall time: 5.78 s\n"
     ]
    },
    {
     "name": "stderr",
     "output_type": "stream",
     "text": [
      "/Users/patrickpriestley/opt/anaconda3/lib/python3.9/site-packages/sklearn/linear_model/_logistic.py:814: ConvergenceWarning: lbfgs failed to converge (status=1):\n",
      "STOP: TOTAL NO. of ITERATIONS REACHED LIMIT.\n",
      "\n",
      "Increase the number of iterations (max_iter) or scale the data as shown in:\n",
      "    https://scikit-learn.org/stable/modules/preprocessing.html\n",
      "Please also refer to the documentation for alternative solver options:\n",
      "    https://scikit-learn.org/stable/modules/linear_model.html#logistic-regression\n",
      "  n_iter_i = _check_optimize_result(\n"
     ]
    },
    {
     "data": {
      "text/plain": [
       "Pipeline(steps=[('preprocess',\n",
       "                 ColumnTransformer(transformers=[('nominalpipe',\n",
       "                                                  Pipeline(steps=[('onehotimputer',\n",
       "                                                                   SimpleImputer(strategy='most_frequent')),\n",
       "                                                                  ('onehotenc',\n",
       "                                                                   OneHotEncoder(drop='first',\n",
       "                                                                                 handle_unknown='ignore',\n",
       "                                                                                 sparse=False)),\n",
       "                                                                  ('onehotnorm',\n",
       "                                                                   MaxAbsScaler())]),\n",
       "                                                  ['TRAFFIC_CONTROL_DEVICE',\n",
       "                                                   'DEVICE_CONDITION',\n",
       "                                                   'FIRST_CRASH_TYPE',\n",
       "                                                   'TRAFFICWAY_TYPE',\n",
       "                                                   'FIRST...\n",
       "                                                   'SEC_CONTRIBUTORY_CAUSE',\n",
       "                                                   'MANEUVER',\n",
       "                                                   'FIRST_CONTACT_POINT', 'SEX',\n",
       "                                                   'EJECTION']),\n",
       "                                                 ('numpipe',\n",
       "                                                  Pipeline(steps=[('numnorm',\n",
       "                                                                   StandardScaler())]),\n",
       "                                                  Index(['POSTED_SPEED_LIMIT', 'WEATHER_CONDITION', 'LIGHTING_CONDITION',\n",
       "       'ALIGNMENT', 'ROADWAY_SURFACE_COND', 'ROAD_DEFECT',\n",
       "       'BEAT_OF_OCCURRENCE', 'AGE', 'year', 'month', 'day'],\n",
       "      dtype='object'))])),\n",
       "                ('model', LogisticRegression())])"
      ]
     },
     "execution_count": 88,
     "metadata": {},
     "output_type": "execute_result"
    }
   ],
   "source": [
    "%%time\n",
    "\n",
    "numeric_pipeline = Pipeline([('numnorm', StandardScaler())])\n",
    "\n",
    "# ordinal_pipeline = Pipeline([\n",
    "#     ('ordimputer', SimpleImputer(strategy = 'most_frequent')),\n",
    "#     ('ordenc', OrdinalEncoder(categories = [])),\n",
    "#     ('ordnorm', StandardScaler())])\n",
    "\n",
    "\n",
    "nominal_pipeline = Pipeline([\n",
    "    ('onehotimputer', SimpleImputer(strategy = 'most_frequent')),\n",
    "    ('onehotenc', OneHotEncoder(sparse = False, drop = 'first', handle_unknown='ignore')), \n",
    "    ('onehotnorm', MaxAbsScaler())])\n",
    "\n",
    "num_cols = X_train.select_dtypes(['int', 'float']).columns\n",
    "\n",
    "ct = ColumnTransformer(\n",
    "    [ (\"nominalpipe\", nominal_pipeline, ['TRAFFIC_CONTROL_DEVICE','DEVICE_CONDITION', 'FIRST_CRASH_TYPE', 'TRAFFICWAY_TYPE',\n",
    "                                       'FIRST_CRASH_TYPE', 'PRIM_CONTRIBUTORY_CAUSE', 'SEC_CONTRIBUTORY_CAUSE', \n",
    "                                         'MANEUVER', 'FIRST_CONTACT_POINT', 'SEX', 'EJECTION']),\n",
    "     (\"numpipe\", numeric_pipeline, num_cols)])\n",
    "\n",
    "num_cols\n",
    "\n",
    "\n",
    "\n",
    "\n",
    "\n",
    "final_pipe = Pipeline([('preprocess', ct),\n",
    "                      ('model',\n",
    "                       LogisticRegression())])\n",
    "\n",
    "\n",
    "\n",
    "final_pipe.fit(X_train, y_train)\n",
    "\n",
    "\n",
    "\n",
    "\n",
    "\n"
   ]
  },
  {
   "cell_type": "code",
   "execution_count": 89,
   "id": "b4af2d4b",
   "metadata": {},
   "outputs": [
    {
     "name": "stdout",
     "output_type": "stream",
     "text": [
      "0.9680518918473333\n"
     ]
    }
   ],
   "source": [
    "scores = final_pipe.score(X_test, y_test)\n",
    "print(scores)"
   ]
  },
  {
   "cell_type": "code",
   "execution_count": 90,
   "id": "c039b585",
   "metadata": {},
   "outputs": [
    {
     "name": "stdout",
     "output_type": "stream",
     "text": [
      "Precision: 0.58\n",
      "Recall: 0.03\n",
      "F1 score: 0.06\n"
     ]
    }
   ],
   "source": [
    "y_pred = final_pipe.predict(X_test)\n",
    "precision = precision_score(y_test, y_pred)\n",
    "recall = recall_score(y_test, y_pred)\n",
    "f1 = f1_score(y_test, y_pred)\n",
    "\n",
    "print(\"Precision: {:.2f}\".format(precision))\n",
    "print(\"Recall: {:.2f}\".format(recall))\n",
    "print(\"F1 score: {:.2f}\".format(f1))"
   ]
  },
  {
   "cell_type": "code",
   "execution_count": 107,
   "id": "c3419da8",
   "metadata": {
    "scrolled": false
   },
   "outputs": [
    {
     "name": "stderr",
     "output_type": "stream",
     "text": [
      "UsageError: Line magic function `%%time` not found.\n"
     ]
    }
   ],
   "source": [
    "#tune logistic model with RandomUnderSampler\n",
    "\n",
    "%%time\n",
    "\n",
    "numeric_pipeline = Pipeline([('numnorm', StandardScaler())])\n",
    "\n",
    "# ordinal_pipeline = Pipeline([\n",
    "#     ('ordimputer', SimpleImputer(strategy = 'most_frequent')),\n",
    "#     ('ordenc', OrdinalEncoder(categories = [])),\n",
    "#     ('ordnorm', StandardScaler())])\n",
    "\n",
    "\n",
    "nominal_pipeline = Pipeline([\n",
    "    ('onehotimputer', SimpleImputer(strategy = 'most_frequent')),\n",
    "    ('onehotenc', OneHotEncoder(sparse = False, drop = 'first', handle_unknown='ignore')), \n",
    "    ('onehotnorm', MaxAbsScaler())])\n",
    "\n",
    "num_cols = X_train.select_dtypes(['int', 'float']).columns\n",
    "\n",
    "ct = ColumnTransformer(\n",
    "    [ (\"nominalpipe\", nominal_pipeline, ['TRAFFIC_CONTROL_DEVICE','DEVICE_CONDITION', 'FIRST_CRASH_TYPE', 'TRAFFICWAY_TYPE',\n",
    "                                       'FIRST_CRASH_TYPE', 'PRIM_CONTRIBUTORY_CAUSE', 'SEC_CONTRIBUTORY_CAUSE', \n",
    "                                         'MANEUVER', 'FIRST_CONTACT_POINT', 'SEX', 'EJECTION']),\n",
    "     (\"numpipe\", numeric_pipeline, num_cols)])\n",
    "\n",
    "num_cols\n",
    "\n",
    "\n",
    "\n",
    "\n",
    "\n",
    "final_pipe = Pipeline([('preprocess', ct),('under', RandomUnderSampler()),\n",
    "                      ('model',\n",
    "                       LogisticRegression())])\n",
    "\n",
    "\n",
    "\n",
    "final_pipe.fit(X_train, y_train)\n",
    "\n",
    "\n",
    "\n",
    "\n"
   ]
  },
  {
   "cell_type": "code",
   "execution_count": 108,
   "id": "395f5d61",
   "metadata": {},
   "outputs": [
    {
     "name": "stdout",
     "output_type": "stream",
     "text": [
      "(394071, 21)\n",
      "(394071,)\n",
      "(194096, 21)\n",
      "(194096,)\n"
     ]
    }
   ],
   "source": [
    "print(X_train.shape)\n",
    "print(y_train.shape)\n",
    "print(X_test.shape)\n",
    "print(y_test.shape)"
   ]
  },
  {
   "cell_type": "code",
   "execution_count": 109,
   "id": "0ac06a1b",
   "metadata": {},
   "outputs": [
    {
     "name": "stdout",
     "output_type": "stream",
     "text": [
      "0.9681188690132718\n"
     ]
    }
   ],
   "source": [
    "## model tuninig \n",
    "scores = final_pipe.score(X_test, y_test)\n",
    "print(scores)"
   ]
  },
  {
   "cell_type": "code",
   "execution_count": 110,
   "id": "dbe13b99",
   "metadata": {},
   "outputs": [
    {
     "name": "stdout",
     "output_type": "stream",
     "text": [
      "Precision: 0.73\n",
      "Recall: 0.02\n",
      "F1 score: 0.03\n"
     ]
    }
   ],
   "source": [
    "\n",
    "y_pred = final_pipe.predict(X_test)\n",
    "precision = precision_score(y_test, y_pred)\n",
    "recall = recall_score(y_test, y_pred)\n",
    "f1 = f1_score(y_test, y_pred)\n",
    "\n",
    "print(\"Precision: {:.2f}\".format(precision))\n",
    "print(\"Recall: {:.2f}\".format(recall))\n",
    "print(\"F1 score: {:.2f}\".format(f1))"
   ]
  },
  {
   "cell_type": "code",
   "execution_count": 95,
   "id": "5e5022da",
   "metadata": {},
   "outputs": [
    {
     "data": {
      "text/plain": [
       "0.0    0.96737\n",
       "1.0    0.03263\n",
       "Name: INJURY_CLASSIFICATION, dtype: float64"
      ]
     },
     "execution_count": 95,
     "metadata": {},
     "output_type": "execute_result"
    }
   ],
   "source": [
    "y.value_counts(normalize = True)"
   ]
  },
  {
   "cell_type": "code",
   "execution_count": 96,
   "id": "bdfeabda",
   "metadata": {},
   "outputs": [
    {
     "data": {
      "text/plain": [
       "0.0    187840\n",
       "1.0      6256\n",
       "Name: INJURY_CLASSIFICATION, dtype: int64"
      ]
     },
     "execution_count": 96,
     "metadata": {},
     "output_type": "execute_result"
    }
   ],
   "source": [
    "y_test.value_counts()"
   ]
  },
  {
   "cell_type": "code",
   "execution_count": 97,
   "id": "ba946410",
   "metadata": {},
   "outputs": [
    {
     "data": {
      "text/plain": [
       "array([[136443,  51397],\n",
       "       [  1439,   4817]])"
      ]
     },
     "execution_count": 97,
     "metadata": {},
     "output_type": "execute_result"
    }
   ],
   "source": [
    "preds = final_pipe.predict(X_test)\n",
    "confusion_matrix(y_test, preds)"
   ]
  },
  {
   "cell_type": "code",
   "execution_count": 98,
   "id": "c40c717f",
   "metadata": {},
   "outputs": [
    {
     "data": {
      "text/plain": [
       "array([[ 2.67037001e-01, -3.82513546e-01, -5.18034714e-03,\n",
       "        -1.69871718e-01,  0.00000000e+00, -2.59764240e-01,\n",
       "         8.42330746e-02, -7.76157151e-01,  4.05774728e-01,\n",
       "         2.00990406e-01,  2.08405062e-01,  3.02368041e-01,\n",
       "         4.83362287e-01,  8.60469267e-01, -2.57312439e-01,\n",
       "        -2.51689755e-01, -6.08473992e-01,  7.90643703e-02,\n",
       "        -1.75276396e-01, -3.39559840e-01, -2.06500117e-01,\n",
       "        -2.46705132e-01, -1.88866170e-01, -1.27793493e-01,\n",
       "         3.16701691e-01,  3.57400741e-02,  5.80903342e-01,\n",
       "         3.83485894e-01,  8.59907419e-01,  4.20793101e-01,\n",
       "         1.18273487e+00, -4.06750716e-02,  2.19736953e-01,\n",
       "        -5.74140472e-01, -5.83644262e-01, -4.33153370e-01,\n",
       "        -1.10083818e-01, -7.19706069e-02, -1.06842614e-01,\n",
       "        -7.04784209e-01, -1.21370584e-01, -3.74165667e-02,\n",
       "         1.17007044e+00,  9.62298819e-01,  1.12137752e+00,\n",
       "         2.55319052e-02,  1.12143991e+00,  1.15685307e+00,\n",
       "         4.90198882e-01,  7.70105366e-01,  9.48031493e-01,\n",
       "         4.45660382e-01,  6.73564120e-01, -2.39699346e-01,\n",
       "         2.85939630e-01,  1.01164362e-01,  9.69882508e-01,\n",
       "         6.51850496e-01,  2.02202068e-01,  1.16318609e+00,\n",
       "         1.27254231e+00,  3.57400741e-02,  5.80903342e-01,\n",
       "         3.83485894e-01,  8.59907419e-01,  4.20793101e-01,\n",
       "         1.18273487e+00, -4.06750716e-02,  2.19736953e-01,\n",
       "        -5.74140472e-01, -5.83644262e-01, -4.33153370e-01,\n",
       "        -1.10083818e-01, -7.19706069e-02, -1.06842614e-01,\n",
       "        -7.04784209e-01, -1.21370584e-01, -3.74165667e-02,\n",
       "        -1.54529735e-01, -7.79182232e-01, -2.83267352e-01,\n",
       "        -3.75229278e-01, -4.72029705e-01, -7.99840989e-01,\n",
       "         6.97626598e-01, -7.24943882e-01, -4.29276591e-01,\n",
       "        -7.01291741e-01, -6.67969416e-01,  1.62718575e-01,\n",
       "        -5.42248824e-01,  1.29505146e-01,  1.16221678e-01,\n",
       "         1.15771151e-01,  1.90268801e-01,  3.79862646e-01,\n",
       "         1.21276163e-01,  1.13795740e-01, -2.19563304e-01,\n",
       "         6.25522579e-01, -1.92132422e-01,  5.04747611e-01,\n",
       "         2.94421237e-01,  3.34991012e-01,  2.36890580e-01,\n",
       "         1.50938236e-01, -4.22608152e-02, -2.80158854e-01,\n",
       "         6.34336256e-02, -4.08754267e-01, -1.73878164e-01,\n",
       "        -1.32658338e-01, -1.12711916e-02,  3.87610493e-01,\n",
       "        -3.43215921e-01,  2.00519450e-01,  2.50083996e-01,\n",
       "        -7.94749092e-01,  9.24785745e-01,  1.44873840e-02,\n",
       "        -6.40090362e-01, -1.07840598e+00, -8.15365303e-02,\n",
       "        -1.10808789e-02, -2.99887271e-01,  5.46039949e-01,\n",
       "         4.19454236e-03, -6.56913722e-03, -1.91197246e+00,\n",
       "        -4.79466366e-01, -6.62275327e-01,  3.78458737e-01,\n",
       "        -1.96026365e-01,  6.34291944e-02, -8.06294463e-01,\n",
       "        -5.77136172e-01, -1.50739912e+00, -5.91830291e-01,\n",
       "         1.72309269e-01, -1.47468323e-01,  7.73614393e-02,\n",
       "        -1.08157644e-01, -2.43746381e-01,  2.70297850e-01,\n",
       "        -1.19572870e+00,  2.85017923e-01, -3.07130816e-01,\n",
       "        -1.26000404e-01, -4.28115693e-01, -6.39691330e-02,\n",
       "        -1.80171594e-01,  2.45432041e-01, -9.44771146e-01,\n",
       "        -4.34591717e-01,  1.02986779e-01, -1.21061391e-01,\n",
       "        -2.14561715e-01, -1.33107630e+00,  1.94978958e-01,\n",
       "        -2.89776401e-01,  9.66152381e-02, -7.30509449e-01,\n",
       "         1.10269692e-02, -1.65320608e-01, -3.22816319e-01,\n",
       "        -5.14195594e-02,  1.73242430e-01, -7.82241122e-01,\n",
       "        -2.85204530e-01, -3.37703120e+00,  1.84580043e+00,\n",
       "         2.35858024e+00,  2.25742980e+00,  9.25968029e-03,\n",
       "         1.70014657e-01, -2.44396287e-02,  9.64697872e-02,\n",
       "         3.69382388e-02, -2.84318935e-02, -5.07488407e-02,\n",
       "        -1.42156695e-01, -2.32340561e-02,  1.54870884e-01,\n",
       "         3.62650225e-02,  2.20884298e-03]])"
      ]
     },
     "execution_count": 98,
     "metadata": {},
     "output_type": "execute_result"
    }
   ],
   "source": [
    "coefs = final_pipe.named_steps['model'].coef_\n",
    "coefs"
   ]
  },
  {
   "cell_type": "code",
   "execution_count": 99,
   "id": "9d1f2a2f",
   "metadata": {},
   "outputs": [
    {
     "data": {
      "text/plain": [
       "Index(['POSTED_SPEED_LIMIT', 'TRAFFIC_CONTROL_DEVICE', 'DEVICE_CONDITION',\n",
       "       'WEATHER_CONDITION', 'LIGHTING_CONDITION', 'FIRST_CRASH_TYPE',\n",
       "       'TRAFFICWAY_TYPE', 'ALIGNMENT', 'ROADWAY_SURFACE_COND', 'ROAD_DEFECT',\n",
       "       'PRIM_CONTRIBUTORY_CAUSE', 'SEC_CONTRIBUTORY_CAUSE',\n",
       "       'BEAT_OF_OCCURRENCE', 'MANEUVER', 'FIRST_CONTACT_POINT', 'SEX', 'AGE',\n",
       "       'EJECTION', 'year', 'month', 'day'],\n",
       "      dtype='object')"
      ]
     },
     "execution_count": 99,
     "metadata": {},
     "output_type": "execute_result"
    }
   ],
   "source": [
    "X_test.columns"
   ]
  },
  {
   "cell_type": "code",
   "execution_count": 100,
   "id": "d2e09595",
   "metadata": {
    "scrolled": true
   },
   "outputs": [
    {
     "data": {
      "text/plain": [
       "['x0_DELINEATORS',\n",
       " 'x0_FLASHING CONTROL SIGNAL',\n",
       " 'x0_LANE USE MARKING',\n",
       " 'x0_NO CONTROLS',\n",
       " 'x0_NO PASSING',\n",
       " 'x0_OTHER',\n",
       " 'x0_OTHER RAILROAD CROSSING',\n",
       " 'x0_OTHER REG. SIGN',\n",
       " 'x0_OTHER WARNING SIGN',\n",
       " 'x0_PEDESTRIAN CROSSING SIGN',\n",
       " 'x0_POLICE/FLAGMAN',\n",
       " 'x0_RAILROAD CROSSING GATE',\n",
       " 'x0_RR CROSSING SIGN',\n",
       " 'x0_SCHOOL ZONE',\n",
       " 'x0_STOP SIGN/FLASHER',\n",
       " 'x0_TRAFFIC SIGNAL',\n",
       " 'x0_UNKNOWN',\n",
       " 'x0_YIELD',\n",
       " 'x1_FUNCTIONING PROPERLY',\n",
       " 'x1_MISSING',\n",
       " 'x1_NO CONTROLS',\n",
       " 'x1_NOT FUNCTIONING',\n",
       " 'x1_OTHER',\n",
       " 'x1_UNKNOWN',\n",
       " 'x1_WORN REFLECTIVE MATERIAL',\n",
       " 'x2_ANIMAL',\n",
       " 'x2_FIXED OBJECT',\n",
       " 'x2_HEAD ON',\n",
       " 'x2_OTHER NONCOLLISION',\n",
       " 'x2_OTHER OBJECT',\n",
       " 'x2_OVERTURNED',\n",
       " 'x2_PARKED MOTOR VEHICLE',\n",
       " 'x2_PEDALCYCLIST',\n",
       " 'x2_PEDESTRIAN',\n",
       " 'x2_REAR END',\n",
       " 'x2_REAR TO FRONT',\n",
       " 'x2_REAR TO REAR',\n",
       " 'x2_REAR TO SIDE',\n",
       " 'x2_SIDESWIPE OPPOSITE DIRECTION',\n",
       " 'x2_SIDESWIPE SAME DIRECTION',\n",
       " 'x2_TRAIN',\n",
       " 'x2_TURNING',\n",
       " 'x3_CENTER TURN LANE',\n",
       " 'x3_DIVIDED - W/MEDIAN (NOT RAISED)',\n",
       " 'x3_DIVIDED - W/MEDIAN BARRIER',\n",
       " 'x3_DRIVEWAY',\n",
       " 'x3_FIVE POINT, OR MORE',\n",
       " 'x3_FOUR WAY',\n",
       " 'x3_L-INTERSECTION',\n",
       " 'x3_NOT DIVIDED',\n",
       " 'x3_NOT REPORTED',\n",
       " 'x3_ONE-WAY',\n",
       " 'x3_OTHER',\n",
       " 'x3_PARKING LOT',\n",
       " 'x3_RAMP',\n",
       " 'x3_ROUNDABOUT',\n",
       " 'x3_T-INTERSECTION',\n",
       " 'x3_TRAFFIC ROUTE',\n",
       " 'x3_UNKNOWN',\n",
       " 'x3_UNKNOWN INTERSECTION TYPE',\n",
       " 'x3_Y-INTERSECTION',\n",
       " 'x4_ANIMAL',\n",
       " 'x4_FIXED OBJECT',\n",
       " 'x4_HEAD ON',\n",
       " 'x4_OTHER NONCOLLISION',\n",
       " 'x4_OTHER OBJECT',\n",
       " 'x4_OVERTURNED',\n",
       " 'x4_PARKED MOTOR VEHICLE',\n",
       " 'x4_PEDALCYCLIST',\n",
       " 'x4_PEDESTRIAN',\n",
       " 'x4_REAR END',\n",
       " 'x4_REAR TO FRONT',\n",
       " 'x4_REAR TO REAR',\n",
       " 'x4_REAR TO SIDE',\n",
       " 'x4_SIDESWIPE OPPOSITE DIRECTION',\n",
       " 'x4_SIDESWIPE SAME DIRECTION',\n",
       " 'x4_TRAIN',\n",
       " 'x4_TURNING',\n",
       " 'x5_DISTRACTION',\n",
       " 'x5_DRIVING SKILLS/KNOWLEDGE/EXPERIENCE',\n",
       " 'x5_EQUIPMENT - VEHICLE CONDITION',\n",
       " 'x5_FAILING TO REDUCE SPEED TO AVOID CRASH/TOO CLOSE',\n",
       " 'x5_FAILING TO YIELD RIGHT-OF-WAY',\n",
       " 'x5_IMPROPER LANE USAGE',\n",
       " 'x5_OPERATING VEHICLE IN NEGLIGENT MANNER/UNDER THE INFLUENCE',\n",
       " 'x5_PHYSICAL ROAD HINDERANCES',\n",
       " 'x5_SCHOOL BUS RELATED',\n",
       " 'x5_UNABLE TO DETERMINE',\n",
       " 'x5_WEATHER',\n",
       " 'x6_BICYCLE ADVANCING LEGALLY ON RED LIGHT',\n",
       " 'x6_CELL PHONE USE OTHER THAN TEXTING',\n",
       " 'x6_DISREGARDING OTHER TRAFFIC SIGNS',\n",
       " 'x6_DISREGARDING ROAD MARKINGS',\n",
       " 'x6_DISREGARDING STOP SIGN',\n",
       " 'x6_DISREGARDING TRAFFIC SIGNALS',\n",
       " 'x6_DISREGARDING YIELD SIGN',\n",
       " 'x6_DISTRACTION - FROM INSIDE VEHICLE',\n",
       " 'x6_DISTRACTION - FROM OUTSIDE VEHICLE',\n",
       " 'x6_DISTRACTION - OTHER ELECTRONIC DEVICE (NAVIGATION DEVICE, DVD PLAYER, ETC.)',\n",
       " 'x6_DRIVING ON WRONG SIDE/WRONG WAY',\n",
       " 'x6_DRIVING SKILLS/KNOWLEDGE/EXPERIENCE',\n",
       " 'x6_EQUIPMENT - VEHICLE CONDITION',\n",
       " 'x6_EVASIVE ACTION DUE TO ANIMAL, OBJECT, NONMOTORIST',\n",
       " 'x6_EXCEEDING AUTHORIZED SPEED LIMIT',\n",
       " 'x6_EXCEEDING SAFE SPEED FOR CONDITIONS',\n",
       " 'x6_FAILING TO REDUCE SPEED TO AVOID CRASH',\n",
       " 'x6_FAILING TO YIELD RIGHT-OF-WAY',\n",
       " 'x6_FOLLOWING TOO CLOSELY',\n",
       " 'x6_HAD BEEN DRINKING (USE WHEN ARREST IS NOT MADE)',\n",
       " 'x6_IMPROPER BACKING',\n",
       " 'x6_IMPROPER LANE USAGE',\n",
       " 'x6_IMPROPER OVERTAKING/PASSING',\n",
       " 'x6_IMPROPER TURNING/NO SIGNAL',\n",
       " 'x6_MOTORCYCLE ADVANCING LEGALLY ON RED LIGHT',\n",
       " 'x6_NOT APPLICABLE',\n",
       " 'x6_OBSTRUCTED CROSSWALKS',\n",
       " 'x6_OPERATING VEHICLE IN ERRATIC, RECKLESS, CARELESS, NEGLIGENT OR AGGRESSIVE MANNER',\n",
       " 'x6_PASSING STOPPED SCHOOL BUS',\n",
       " 'x6_PHYSICAL CONDITION OF DRIVER',\n",
       " 'x6_RELATED TO BUS STOP',\n",
       " 'x6_ROAD CONSTRUCTION/MAINTENANCE',\n",
       " 'x6_ROAD ENGINEERING/SURFACE/MARKING DEFECTS',\n",
       " 'x6_TEXTING',\n",
       " 'x6_TURNING RIGHT ON RED',\n",
       " 'x6_UNABLE TO DETERMINE',\n",
       " 'x6_UNDER THE INFLUENCE OF ALCOHOL/DRUGS (USE WHEN ARREST IS EFFECTED)',\n",
       " 'x6_VISION OBSCURED (SIGNS, TREE LIMBS, BUILDINGS, ETC.)',\n",
       " 'x6_WEATHER',\n",
       " 'x7_BACKING',\n",
       " 'x7_CHANGING LANES',\n",
       " 'x7_DISABLED',\n",
       " 'x7_DIVERGING',\n",
       " 'x7_DRIVERLESS',\n",
       " 'x7_DRIVING WRONG WAY',\n",
       " 'x7_ENTER FROM DRIVE/ALLEY',\n",
       " 'x7_ENTERING TRAFFIC LANE FROM PARKING',\n",
       " 'x7_LEAVING TRAFFIC LANE TO PARK',\n",
       " 'x7_MERGING',\n",
       " 'x7_NEGOTIATING A CURVE',\n",
       " 'x7_OTHER',\n",
       " 'x7_PARKED',\n",
       " 'x7_PARKED IN TRAFFIC LANE',\n",
       " 'x7_PASSING/OVERTAKING',\n",
       " 'x7_SKIDDING/CONTROL LOSS',\n",
       " 'x7_SLOW/STOP - LEFT TURN',\n",
       " 'x7_SLOW/STOP - LOAD/UNLOAD',\n",
       " 'x7_SLOW/STOP - RIGHT TURN',\n",
       " 'x7_SLOW/STOP IN TRAFFIC',\n",
       " 'x7_STARTING IN TRAFFIC',\n",
       " 'x7_STRAIGHT AHEAD',\n",
       " 'x7_TURNING LEFT',\n",
       " 'x7_TURNING ON RED',\n",
       " 'x7_TURNING RIGHT',\n",
       " 'x7_U-TURN',\n",
       " 'x7_UNKNOWN/NA',\n",
       " 'x8_FRONT-LEFT',\n",
       " 'x8_FRONT-RIGHT',\n",
       " 'x8_NONE',\n",
       " 'x8_OTHER',\n",
       " 'x8_REAR',\n",
       " 'x8_REAR-LEFT',\n",
       " 'x8_REAR-RIGHT',\n",
       " 'x8_ROOF',\n",
       " 'x8_SIDE-LEFT',\n",
       " 'x8_SIDE-RIGHT',\n",
       " 'x8_TOTAL (ALL AREAS)',\n",
       " 'x8_UNDER CARRIAGE',\n",
       " 'x8_UNKNOWN',\n",
       " 'x9_M',\n",
       " 'x9_X',\n",
       " 'x10_PARTIALLY EJECTED',\n",
       " 'x10_TOTALLY EJECTED',\n",
       " 'x10_TRAPPED/EXTRICATED',\n",
       " 'x10_UNKNOWN']"
      ]
     },
     "execution_count": 100,
     "metadata": {},
     "output_type": "execute_result"
    }
   ],
   "source": [
    "final_pipe.named_steps['preprocess'].transformers_[0][1][1].get_feature_names_out().tolist()"
   ]
  },
  {
   "cell_type": "code",
   "execution_count": 101,
   "id": "68e5e2cb",
   "metadata": {},
   "outputs": [],
   "source": [
    "final_pipe_grid = {'model__LogisticRegression': [3, 11, 15],\n",
    "             'model__p': [1, 2]}\n",
    "\n",
    "gs_full_pipe = GridSearchCV(estimator=final_pipe, \n",
    "                       param_grid=final_pipe_grid)"
   ]
  },
  {
   "cell_type": "code",
   "execution_count": 102,
   "id": "3399ae2d",
   "metadata": {},
   "outputs": [
    {
     "data": {
      "text/plain": [
       "dict_keys(['n_jobs', 'remainder', 'sparse_threshold', 'transformer_weights', 'transformers', 'verbose', 'verbose_feature_names_out', 'nominalpipe', 'numpipe', 'nominalpipe__memory', 'nominalpipe__steps', 'nominalpipe__verbose', 'nominalpipe__onehotimputer', 'nominalpipe__onehotenc', 'nominalpipe__onehotnorm', 'nominalpipe__onehotimputer__add_indicator', 'nominalpipe__onehotimputer__copy', 'nominalpipe__onehotimputer__fill_value', 'nominalpipe__onehotimputer__missing_values', 'nominalpipe__onehotimputer__strategy', 'nominalpipe__onehotimputer__verbose', 'nominalpipe__onehotenc__categories', 'nominalpipe__onehotenc__drop', 'nominalpipe__onehotenc__dtype', 'nominalpipe__onehotenc__handle_unknown', 'nominalpipe__onehotenc__sparse', 'nominalpipe__onehotnorm__copy', 'numpipe__memory', 'numpipe__steps', 'numpipe__verbose', 'numpipe__numnorm', 'numpipe__numnorm__copy', 'numpipe__numnorm__with_mean', 'numpipe__numnorm__with_std'])"
      ]
     },
     "execution_count": 102,
     "metadata": {},
     "output_type": "execute_result"
    }
   ],
   "source": [
    "ct.get_params().keys()"
   ]
  },
  {
   "cell_type": "code",
   "execution_count": null,
   "id": "4497f87c",
   "metadata": {},
   "outputs": [],
   "source": []
  },
  {
   "cell_type": "code",
   "execution_count": null,
   "id": "b9a8cf7b",
   "metadata": {},
   "outputs": [],
   "source": []
  },
  {
   "cell_type": "code",
   "execution_count": null,
   "id": "0a867d0c",
   "metadata": {},
   "outputs": [],
   "source": []
  },
  {
   "cell_type": "code",
   "execution_count": null,
   "id": "37d22bfe",
   "metadata": {},
   "outputs": [],
   "source": []
  }
 ],
 "metadata": {
  "kernelspec": {
   "display_name": "Python 3 (ipykernel)",
   "language": "python",
   "name": "python3"
  },
  "language_info": {
   "codemirror_mode": {
    "name": "ipython",
    "version": 3
   },
   "file_extension": ".py",
   "mimetype": "text/x-python",
   "name": "python",
   "nbconvert_exporter": "python",
   "pygments_lexer": "ipython3",
   "version": "3.9.12"
  }
 },
 "nbformat": 4,
 "nbformat_minor": 5
}
